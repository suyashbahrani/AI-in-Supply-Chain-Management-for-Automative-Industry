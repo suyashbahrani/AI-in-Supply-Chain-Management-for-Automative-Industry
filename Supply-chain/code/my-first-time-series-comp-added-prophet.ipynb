{
 "cells": [
  {
   "cell_type": "markdown",
   "metadata": {
    "_uuid": "94bedc28970dcf65e3825823fcddbd033fb1b15f"
   },
   "source": [
    "In this notebook, I have tried to depict the following\n",
    "- Little Bit TS Theory from Wiki , Different Blogposts and Online Books\n",
    "- EDA\n",
    "- Seasonality Demonstration\n",
    "- Moving Average, Exponential Average and Smoothen\n",
    "- Few Pivot Plots\n",
    "- Keras Embedding(Re-added for Testing)\n",
    "- Prophet (With and Without Transformations)\n",
    "- ARIMA\n",
    "- Validating The Forecast via Plots and Different Metrics\n",
    "- Modelling\n",
    "- **LSTM Modelling( Next Update and Probably the last by me...)**\n",
    "\n",
    "Here's the collection of Resources (including all the publicly shared kernels)\n",
    "- https://www.kaggle.com/c/demand-forecasting-kernels-only/discussion/63568\n",
    "\n",
    "And in particular this discussion (Thanks a Lot, I learnt a lot from it locally)\n",
    "- https://www.kaggle.com/c/demand-forecasting-kernels-only/discussion/62592"
   ]
  },
  {
   "cell_type": "markdown",
   "metadata": {
    "_uuid": "5337f334494e39812b36fa5435c63a9e3abb1478"
   },
   "source": [
    "We begin with a **simple definition of time series**:\n",
    "\n",
    "- Time series is a series of data points indexed (or listed or graphed) in time order. Therefore, the data is organized by relatively deterministic timestamps, and may, compared to random sample data, contain additional information that we can extract."
   ]
  },
  {
   "cell_type": "markdown",
   "metadata": {
    "_uuid": "b1c6fefaa7be459254e66217566121e9211626da",
    "heading_collapsed": true
   },
   "source": [
    "## Necessary Imports"
   ]
  },
  {
   "cell_type": "code",
   "execution_count": 1,
   "metadata": {
    "ExecuteTime": {
     "end_time": "2018-08-18T04:11:30.311589Z",
     "start_time": "2018-08-18T04:11:24.494449Z"
    },
    "_uuid": "f9855f8c04e1efbb8f58471c073a93cc4f2d180c",
    "hidden": true
   },
   "outputs": [],
   "source": [
    "%load_ext autoreload\n",
    "%autoreload 2\n",
    "\n",
    "%matplotlib inline"
   ]
  },
  {
   "cell_type": "code",
   "execution_count": 6,
   "metadata": {
    "ExecuteTime": {
     "end_time": "2018-08-18T04:12:00.359298Z",
     "start_time": "2018-08-18T04:11:30.311589Z"
    },
    "_uuid": "d8138beae325bd3684d0a74f3e00c2b28bf6e4fd",
    "hidden": true
   },
   "outputs": [
    {
     "ename": "ModuleNotFoundError",
     "evalue": "No module named 'fastai'",
     "output_type": "error",
     "traceback": [
      "\u001b[1;31m---------------------------------------------------------------------------\u001b[0m",
      "\u001b[1;31mModuleNotFoundError\u001b[0m                       Traceback (most recent call last)",
      "\u001b[1;32m<ipython-input-6-a0b8c7327dc4>\u001b[0m in \u001b[0;36m<module>\u001b[1;34m\u001b[0m\n\u001b[0;32m      4\u001b[0m \u001b[1;32mimport\u001b[0m \u001b[0mseaborn\u001b[0m \u001b[1;32mas\u001b[0m \u001b[0msns\u001b[0m\u001b[1;33m\u001b[0m\u001b[1;33m\u001b[0m\u001b[0m\n\u001b[0;32m      5\u001b[0m \u001b[1;33m\u001b[0m\u001b[0m\n\u001b[1;32m----> 6\u001b[1;33m \u001b[1;32mfrom\u001b[0m \u001b[0mfastai\u001b[0m\u001b[1;33m.\u001b[0m\u001b[0mimports\u001b[0m \u001b[1;32mimport\u001b[0m \u001b[1;33m*\u001b[0m\u001b[1;33m\u001b[0m\u001b[1;33m\u001b[0m\u001b[0m\n\u001b[0m\u001b[0;32m      7\u001b[0m \u001b[1;32mfrom\u001b[0m \u001b[0mfastai\u001b[0m\u001b[1;33m.\u001b[0m\u001b[0mstructured\u001b[0m \u001b[1;32mimport\u001b[0m \u001b[1;33m*\u001b[0m\u001b[1;33m\u001b[0m\u001b[1;33m\u001b[0m\u001b[0m\n\u001b[0;32m      8\u001b[0m \u001b[1;32mfrom\u001b[0m \u001b[0mfbprophet\u001b[0m \u001b[1;32mimport\u001b[0m \u001b[0mProphet\u001b[0m\u001b[1;33m\u001b[0m\u001b[1;33m\u001b[0m\u001b[0m\n",
      "\u001b[1;31mModuleNotFoundError\u001b[0m: No module named 'fastai'"
     ]
    }
   ],
   "source": [
    "import time\n",
    "import lightgbm as lgb\n",
    "import xgboost as xgb\n",
    "import seaborn as sns\n",
    "\n",
    "from fastai.imports import *\n",
    "from fastai.structured import *\n",
    "from fbprophet import Prophet\n",
    "import os\n",
    "\n",
    "def ignore_warn(*args, **kwargs):\n",
    "    pass\n",
    "warnings.warn = ignore_warn\n",
    "\n",
    "from sklearn.metrics import r2_score, median_absolute_error, mean_absolute_error\n",
    "from sklearn.metrics import median_absolute_error, mean_squared_error, mean_squared_log_error\n",
    "from sklearn.model_selection import KFold\n",
    "from scipy import stats\n",
    "from plotly.offline import init_notebook_mode, iplot\n",
    "from plotly import graph_objs as go\n",
    "\n",
    "import statsmodels.api as sm\n",
    "# Initialize plotly\n",
    "init_notebook_mode(connected=True)\n",
    "def mean_absolute_percentage_error(y_true, y_pred): \n",
    "    return np.mean(np.abs((y_true - y_pred) / y_true)) * 100\n",
    "\n",
    "pd.option_context(\"display.max_rows\", 1000);\n",
    "pd.option_context(\"display.max_columns\", 1000);"
   ]
  },
  {
   "cell_type": "code",
   "execution_count": 5,
   "metadata": {
    "ExecuteTime": {
     "end_time": "2018-08-18T04:12:00.538767Z",
     "start_time": "2018-08-18T04:12:00.359298Z"
    },
    "_uuid": "5d9785e86c79ec9f6d1a9052df2610e92b0eefe1",
    "hidden": true
   },
   "outputs": [
    {
     "ename": "NameError",
     "evalue": "name 'os' is not defined",
     "output_type": "error",
     "traceback": [
      "\u001b[1;31m---------------------------------------------------------------------------\u001b[0m",
      "\u001b[1;31mNameError\u001b[0m                                 Traceback (most recent call last)",
      "\u001b[1;32m<ipython-input-5-a78b1fb2bab9>\u001b[0m in \u001b[0;36m<module>\u001b[1;34m\u001b[0m\n\u001b[1;32m----> 1\u001b[1;33m \u001b[0mos\u001b[0m\u001b[1;33m.\u001b[0m\u001b[0mgetcwd\u001b[0m\u001b[1;33m(\u001b[0m\u001b[1;33m)\u001b[0m\u001b[1;33m\u001b[0m\u001b[1;33m\u001b[0m\u001b[0m\n\u001b[0m",
      "\u001b[1;31mNameError\u001b[0m: name 'os' is not defined"
     ]
    }
   ],
   "source": [
    "os.getcwd()"
   ]
  },
  {
   "cell_type": "code",
   "execution_count": null,
   "metadata": {
    "ExecuteTime": {
     "end_time": "2018-08-18T04:12:00.767809Z",
     "start_time": "2018-08-18T04:12:00.538767Z"
    },
    "_uuid": "bf8e44d1111c6a59a11406dec3150af1c956f2ff",
    "collapsed": true,
    "hidden": true
   },
   "outputs": [],
   "source": [
    "PATH = '../input/'"
   ]
  },
  {
   "cell_type": "code",
   "execution_count": null,
   "metadata": {
    "ExecuteTime": {
     "end_time": "2018-08-18T04:12:00.963632Z",
     "start_time": "2018-08-18T04:12:00.767809Z"
    },
    "_uuid": "2eb60bbe709cbd737cb0aa79eb798b1ae29e712d",
    "hidden": true
   },
   "outputs": [],
   "source": [
    "print(os.listdir(PATH))"
   ]
  },
  {
   "cell_type": "code",
   "execution_count": null,
   "metadata": {
    "ExecuteTime": {
     "end_time": "2018-08-18T04:12:02.338170Z",
     "start_time": "2018-08-18T04:12:00.963632Z"
    },
    "_uuid": "815e17f094efcd299fa23e1d1e10e0e645fb741b",
    "collapsed": true,
    "hidden": true
   },
   "outputs": [],
   "source": [
    "df_raw = pd.read_csv(f'{PATH}/train.csv', low_memory=False, parse_dates=['date'], index_col=['date'])\n",
    "df_test = pd.read_csv(f'{PATH}/test.csv', low_memory=False, parse_dates=['date'], index_col=['date'])\n",
    "subs = pd.read_csv(f'{PATH}/sample_submission.csv')"
   ]
  },
  {
   "cell_type": "code",
   "execution_count": null,
   "metadata": {
    "ExecuteTime": {
     "end_time": "2018-08-18T04:12:02.546592Z",
     "start_time": "2018-08-18T04:12:02.338170Z"
    },
    "_uuid": "3ece95dfdd31515c46043492be72527ab4b65b0c",
    "hidden": true
   },
   "outputs": [],
   "source": [
    "df_raw.head()"
   ]
  },
  {
   "cell_type": "code",
   "execution_count": null,
   "metadata": {
    "ExecuteTime": {
     "end_time": "2018-08-18T04:12:02.730572Z",
     "start_time": "2018-08-18T04:12:02.546592Z"
    },
    "_uuid": "4ae3edaf6ee5da38535d1fa4043e8ff300905df6",
    "hidden": true
   },
   "outputs": [],
   "source": [
    "print(\"Train and Test shape are {} and {} respectively\".format(df_raw.shape, df_test.shape))"
   ]
  },
  {
   "cell_type": "code",
   "execution_count": null,
   "metadata": {
    "ExecuteTime": {
     "end_time": "2018-08-18T04:12:02.918070Z",
     "start_time": "2018-08-18T04:12:02.730572Z"
    },
    "_uuid": "6c73873f0586657e508c753f226fb94fca35807b",
    "hidden": true
   },
   "outputs": [],
   "source": [
    "df_test.head()"
   ]
  },
  {
   "cell_type": "code",
   "execution_count": null,
   "metadata": {
    "_uuid": "3ff03c4f827c96d1bc4995623c08f4b91ac28069"
   },
   "outputs": [],
   "source": [
    "#### Seasonality Check\n",
    "# preparation: input should be float type\n",
    "df_raw['sales'] = df_raw['sales'] * 1.0\n",
    "\n",
    "# store types\n",
    "sales_a = df_raw[df_raw.store == 2]['sales'].sort_index(ascending = True)\n",
    "sales_b = df_raw[df_raw.store == 3]['sales'].sort_index(ascending = True) # solve the reverse order\n",
    "sales_c = df_raw[df_raw.store == 1]['sales'].sort_index(ascending = True)\n",
    "sales_d = df_raw[df_raw.store == 4]['sales'].sort_index(ascending = True)\n",
    "\n",
    "f, (ax1, ax2, ax3, ax4) = plt.subplots(4, figsize = (12, 13))\n",
    "c = '#386B7F'\n",
    "\n",
    "# store types\n",
    "sales_a.resample('W').sum().plot(color = c, ax = ax1)\n",
    "sales_b.resample('W').sum().plot(color = c, ax = ax2)\n",
    "sales_c.resample('W').sum().plot(color = c, ax = ax3)\n",
    "sales_d.resample('W').sum().plot(color = c, ax = ax4)\n",
    "\n",
    "#All Stores have same trend... Weird Seems like the dataset is A Synthetic One..;"
   ]
  },
  {
   "cell_type": "code",
   "execution_count": null,
   "metadata": {
    "_uuid": "6a9c5404e77c955578ce07c6a1eb8b4e58b6acfb"
   },
   "outputs": [],
   "source": [
    "f, (ax1, ax2, ax3, ax4) = plt.subplots(4, figsize = (12, 13))\n",
    "\n",
    "# Yearly\n",
    "decomposition_a = sm.tsa.seasonal_decompose(sales_a, model = 'additive', freq = 365)\n",
    "decomposition_a.trend.plot(color = c, ax = ax1)\n",
    "\n",
    "decomposition_b = sm.tsa.seasonal_decompose(sales_b, model = 'additive', freq = 365)\n",
    "decomposition_b.trend.plot(color = c, ax = ax2)\n",
    "\n",
    "decomposition_c = sm.tsa.seasonal_decompose(sales_c, model = 'additive', freq = 365)\n",
    "decomposition_c.trend.plot(color = c, ax = ax3)\n",
    "\n",
    "decomposition_d = sm.tsa.seasonal_decompose(sales_d, model = 'additive', freq = 365)\n",
    "decomposition_d.trend.plot(color = c, ax = ax4)"
   ]
  },
  {
   "cell_type": "code",
   "execution_count": null,
   "metadata": {
    "ExecuteTime": {
     "end_time": "2018-08-18T04:12:03.329992Z",
     "start_time": "2018-08-18T04:12:03.101783Z"
    },
    "_uuid": "1b831ac39fd97d49ec9e8d7412938e16bb5a8859",
    "collapsed": true
   },
   "outputs": [],
   "source": [
    "date_sales = df_raw.drop(['store','item'], axis=1).copy() #it's a temporary DataFrame.. Original is Still intact.."
   ]
  },
  {
   "cell_type": "code",
   "execution_count": null,
   "metadata": {
    "ExecuteTime": {
     "end_time": "2018-08-18T04:12:03.529508Z",
     "start_time": "2018-08-18T04:12:03.333464Z"
    },
    "_uuid": "7a35ab5aafc3880055a19d22551afe7ecd3a1140"
   },
   "outputs": [],
   "source": [
    "date_sales.get_ftype_counts()"
   ]
  },
  {
   "cell_type": "code",
   "execution_count": null,
   "metadata": {
    "ExecuteTime": {
     "end_time": "2018-08-17T17:37:16.276332Z",
     "start_time": "2018-08-17T17:37:15.827907Z"
    },
    "_uuid": "f64a72705e0d38a89e50c273cfedf702329ea5bc"
   },
   "outputs": [],
   "source": [
    "y = date_sales['sales'].resample('MS').mean() \n",
    "y['2017':] #sneak peak"
   ]
  },
  {
   "cell_type": "code",
   "execution_count": null,
   "metadata": {
    "_uuid": "784286dc3c902defad9893c7909c7750ad8fbd8b"
   },
   "outputs": [],
   "source": [
    "y.plot(figsize=(15, 6),);\n",
    "#The time-series has seasonality pattern, such as sales are always low at the beginning of the year and high at the middle(festive season maybe) of the year\n",
    "# and again low at the end of the year...\n",
    "#There is always an upward trend within any single year with a couple of low months in the mid of the year..."
   ]
  },
  {
   "cell_type": "code",
   "execution_count": null,
   "metadata": {
    "_uuid": "75e1490d37d109d7ae549ed985cbaaa7b35694bb"
   },
   "outputs": [],
   "source": [
    "#We can also visualize our data using a method called time-series decomposition that allows us to decompose our time series into three distinct components: \n",
    "#trend, seasonality, and noise.\n",
    "decomposition = sm.tsa.seasonal_decompose(y, model='additive')\n",
    "decomposition.plot();\n",
    "#The plot clearly shows that the sales is unstable, along with its obvious seasonality.;"
   ]
  },
  {
   "cell_type": "code",
   "execution_count": null,
   "metadata": {
    "_uuid": "aa019f994626bd6faebdd186f777a22e34f54c7e"
   },
   "outputs": [],
   "source": [
    "#We can also visualize our data using a method called time-series decomposition that allows us to decompose our time series into three distinct components: \n",
    "#trend, seasonality, and noise.\n",
    "decomposition = sm.tsa.seasonal_decompose(y, model='multiplicative')\n",
    "decomposition.plot();\n",
    "#The plot above clearly shows that the sales is unstable, along with its obvious seasonality.;"
   ]
  },
  {
   "cell_type": "markdown",
   "metadata": {
    "_uuid": "01b3f6ff96ef5f1d1b58490c18a594bfa7104dc5"
   },
   "source": [
    "## Moving Average"
   ]
  },
  {
   "cell_type": "markdown",
   "metadata": {
    "_uuid": "1df560bf74404b89c9db632c88195700a52ae0b6"
   },
   "source": [
    "Let's start with a naive hypothesis: \"tomorrow will be the same as today\". However, instead of a model like $\\hat{y}_{t} = y_{t-1}$ (which is actually a great baseline for any time series prediction problems and sometimes is impossible to beat), we will assume that the future value of our variable depends on the average of its $k$ previous values. Therefore, we will use the moving average.\n",
    "\n",
    "$\\hat{y}_{t} = \\frac{1}{k} \\displaystyle\\sum^{k}_{n=1} y_{t-n}$"
   ]
  },
  {
   "cell_type": "code",
   "execution_count": null,
   "metadata": {
    "ExecuteTime": {
     "end_time": "2018-07-31T13:21:53.940870Z",
     "start_time": "2018-07-31T13:21:53.537435Z"
    },
    "_uuid": "e637a7f5007736f125bdd4ddbc5f823e89053327"
   },
   "outputs": [],
   "source": [
    "def moving_average(series, n):\n",
    "    \"\"\"\n",
    "        Calculate average of last n observations\n",
    "    \"\"\"\n",
    "    return np.average(series[-n:])\n",
    "\n",
    "moving_average(date_sales, 24) # prediction for the last observed day (past 24 hours)"
   ]
  },
  {
   "cell_type": "code",
   "execution_count": null,
   "metadata": {
    "ExecuteTime": {
     "end_time": "2018-07-31T13:25:33.942473Z",
     "start_time": "2018-07-31T13:25:33.624219Z"
    },
    "_uuid": "0305cd325e26577f224d63370abffa95458eb6fa",
    "collapsed": true
   },
   "outputs": [],
   "source": [
    "def plotMovingAverage(series, window, plot_intervals=False, scale=2, plot_anomalies=False):\n",
    "\n",
    "    \"\"\"\n",
    "        series - dataframe with timeseries\n",
    "        window - rolling window size \n",
    "        plot_intervals - show confidence intervals\n",
    "        plot_anomalies - show anomalies \n",
    "\n",
    "    \"\"\"\n",
    "    rolling_mean = series.rolling(window=window).mean()\n",
    "\n",
    "    plt.figure(figsize=(15,5))\n",
    "    plt.title(\"Moving average\\n window size = {}\".format(window))\n",
    "    plt.plot(rolling_mean, color='Black', label=\"Rolling mean trend\", alpha=0.5)\n",
    "\n",
    "    # Plot confidence intervals for smoothed values\n",
    "    if plot_intervals:\n",
    "        mae = mean_absolute_error(series[window:], rolling_mean[window:])\n",
    "        deviation = np.std(series[window:] - rolling_mean[window:])\n",
    "        lower_bond = rolling_mean - (mae + scale * deviation)\n",
    "        upper_bond = rolling_mean + (mae + scale * deviation)\n",
    "        plt.plot(upper_bond, color='Black', label=\"Upper Bond / Lower Bond\", alpha=.3)\n",
    "        plt.plot(lower_bond, color='Black', alpha=.3)\n",
    "        \n",
    "        # Having the intervals, find abnormal values\n",
    "        if plot_anomalies:\n",
    "            anomalies = pd.DataFrame(index=series.index, columns=series.columns)\n",
    "            anomalies[series<lower_bond] = series[series<lower_bond]\n",
    "            anomalies[series>upper_bond] = series[series>upper_bond]\n",
    "            plt.plot(anomalies, \"ro\", markersize=10)\n",
    "        \n",
    "    plt.plot(series[window:],color='Red', label=\"Actual values\", alpha=.3)\n",
    "    plt.legend(loc=\"upper left\")\n",
    "    plt.grid(True)"
   ]
  },
  {
   "cell_type": "markdown",
   "metadata": {
    "_uuid": "9ed952c43d38c2c3e32b81ceee1d14a30a108460"
   },
   "source": [
    "## Exponential smoothing\n",
    "\n",
    "Now, let's see what happens if, instead of weighting the last $k$ values of the time series, we start weighting all available observations while exponentially decreasing the weights as we move further back in time. There exists a formula for exponential smoothing that will help us with this:\n",
    "\n",
    "$$\\hat{y}_{t} = \\alpha \\cdot y_t + (1-\\alpha) \\cdot \\hat y_{t-1} $$\n",
    "\n",
    "Here the model value is a weighted average between the current true value and the previous model values. The $\\alpha$ weight is called a smoothing factor. It defines how quickly we will \"forget\" the last available true observation. The smaller $\\alpha$ is, the more influence the previous observations have and the smoother the series is.\n",
    "\n",
    "Exponentiality is hidden in the recursiveness of the function -- we multiply by $(1-\\alpha)$ each time, which already contains a multiplication by $(1-\\alpha)$ of previous model values."
   ]
  },
  {
   "cell_type": "code",
   "execution_count": null,
   "metadata": {
    "ExecuteTime": {
     "end_time": "2018-07-31T13:21:58.679020Z",
     "start_time": "2018-07-31T13:21:58.404765Z"
    },
    "_uuid": "4f0583c64a738c25d1321d2fb89ce91899bac93a",
    "collapsed": true
   },
   "outputs": [],
   "source": [
    "def exponential_smoothing(series, alpha):\n",
    "    \"\"\"\n",
    "        series - dataset with timestamps\n",
    "        alpha - float [0.0, 1.0], smoothing parameter\n",
    "    \"\"\"\n",
    "    result = [series[0]] # first value is same as series\n",
    "    for n in range(1, len(series)):\n",
    "        result.append(alpha * series[n] + (1 - alpha) * result[n-1])\n",
    "    return result"
   ]
  },
  {
   "cell_type": "code",
   "execution_count": null,
   "metadata": {
    "ExecuteTime": {
     "end_time": "2018-07-31T13:30:24.600120Z",
     "start_time": "2018-07-31T13:30:24.184909Z"
    },
    "_uuid": "0f0354f1fb79fd0bd0a4bf41c36b30376d91b67a",
    "collapsed": true
   },
   "outputs": [],
   "source": [
    "def plotExponentialSmoothing(series, alphas):\n",
    "    \"\"\"\n",
    "        Plots exponential smoothing with different alphas\n",
    "        \n",
    "        series - dataset with timestamps\n",
    "        alphas - list of floats, smoothing parameters\n",
    "        \n",
    "    \"\"\"\n",
    "    with plt.style.context('seaborn-white'):    \n",
    "        plt.figure(figsize=(15, 7))\n",
    "        for alpha in alphas:\n",
    "            plt.plot(exponential_smoothing(series, alpha), label=\"Alpha {}\".format(alpha))\n",
    "        plt.plot(series.values, \"c\", label = \"Actual\", alpha = 0.4)\n",
    "        plt.legend(loc=\"best\")\n",
    "        plt.axis('tight')\n",
    "        plt.title(\"Exponential Smoothing\")\n",
    "        plt.grid(True);"
   ]
  },
  {
   "cell_type": "code",
   "execution_count": null,
   "metadata": {
    "ExecuteTime": {
     "end_time": "2018-07-31T13:32:02.390745Z",
     "start_time": "2018-07-31T13:31:54.617514Z"
    },
    "_uuid": "e899ba5f893aa8bdfd8aa19d3a42dd4385659bae"
   },
   "outputs": [],
   "source": [
    "plotExponentialSmoothing(date_sales.sales[:30000], [0.3, 0.05])"
   ]
  },
  {
   "cell_type": "markdown",
   "metadata": {
    "_uuid": "a937695955233cb4e67eba72d23950969fcee8ae"
   },
   "source": [
    "## Double exponential Smoothing\n",
    "\n",
    "Up to now, the methods that we've have seen are for a single future point prediction (with some nice smoothing). That is cool, but it is also not enough. Let's extend exponential smoothing so that we can predict two future points (of course, we will also include more smoothing).\n",
    "\n",
    "Series decomposition will help us -- we obtain two components: intercept (i.e. level) $\\ell$ and slope (i.e. trend) $b$. We have learnt to predict intercept (or expected series value) with our previous methods; now, we will apply the same exponential smoothing to the trend by assuming that the future direction of the time series changes depends on the previous weighted changes. As a result, we get the following set of functions:\n",
    "\n",
    "$$\\ell_x = \\alpha y_x + (1-\\alpha)(\\ell_{x-1} + b_{x-1})$$\n",
    "\n",
    "$$b_x = \\beta(\\ell_x - \\ell_{x-1}) + (1-\\beta)b_{x-1}$$\n",
    "\n",
    "$$\\hat{y}_{x+1} = \\ell_x + b_x$$\n",
    "\n",
    "- The first one describes the intercept, which, as before, depends on the current value of the series.\n",
    "- The second term is now split into previous values of the level and of the trend. \n",
    "    -  The second function describes the trend, which depends on the level changes at the current step and on the previous value of the trend. In this case, the $\\beta$ coefficient is a weight for exponential smoothing. \n",
    "- The final prediction is the sum of the model values of the intercept and trend."
   ]
  },
  {
   "cell_type": "code",
   "execution_count": null,
   "metadata": {
    "ExecuteTime": {
     "end_time": "2018-07-31T13:34:00.366897Z",
     "start_time": "2018-07-31T13:34:00.069313Z"
    },
    "_uuid": "62e5a79bafdc99d8392852064537fed0b9593337",
    "collapsed": true
   },
   "outputs": [],
   "source": [
    "def double_exponential_smoothing(series, alpha, beta):\n",
    "    \"\"\"\n",
    "        series - dataset with timeseries\n",
    "        alpha - float [0.0, 1.0], smoothing parameter for level\n",
    "        beta - float [0.0, 1.0], smoothing parameter for trend\n",
    "    \"\"\"\n",
    "    # first value is same as series\n",
    "    result = [series[0]]\n",
    "    for n in range(1, len(series)+1):\n",
    "        if n == 1:\n",
    "            level, trend = series[0], series[1] - series[0]\n",
    "        if n >= len(series): # forecasting\n",
    "            value = result[-1]\n",
    "        else:\n",
    "            value = series[n]\n",
    "        last_level, level = level, alpha*value + (1-alpha)*(level+trend)\n",
    "        trend = beta*(level-last_level) + (1-beta)*trend\n",
    "        result.append(level+trend)\n",
    "    return result\n",
    "\n",
    "def plotDoubleExponentialSmoothing(series, alphas, betas):\n",
    "    \"\"\"\n",
    "        Plots double exponential smoothing with different alphas and betas\n",
    "        \n",
    "        series - dataset with timestamps\n",
    "        alphas - list of floats, smoothing parameters for level\n",
    "        betas - list of floats, smoothing parameters for trend\n",
    "    \"\"\"\n",
    "    \n",
    "    with plt.style.context('seaborn-white'):    \n",
    "        plt.figure(figsize=(20, 8))\n",
    "        for alpha in alphas:\n",
    "            for beta in betas:\n",
    "                plt.plot(double_exponential_smoothing(series, alpha, beta), label=\"Alpha {}, beta {}\".format(alpha, beta))\n",
    "        plt.plot(series.values, label = \"Actual\", alpha = 0.1)\n",
    "        plt.legend(loc=\"best\")\n",
    "        plt.axis('tight')\n",
    "        plt.title(\"Double Exponential Smoothing\")\n",
    "        plt.grid(True)"
   ]
  },
  {
   "cell_type": "code",
   "execution_count": null,
   "metadata": {
    "ExecuteTime": {
     "end_time": "2018-07-31T13:34:16.266046Z",
     "start_time": "2018-07-31T13:34:01.143920Z"
    },
    "_uuid": "e8c5cc9a341a0c91322a4cf0eee254abc234834c"
   },
   "outputs": [],
   "source": [
    "plotDoubleExponentialSmoothing(date_sales.sales[:30000], alphas=[0.9, 0.02], betas=[0.9, 0.02])"
   ]
  },
  {
   "cell_type": "code",
   "execution_count": null,
   "metadata": {
    "_uuid": "c3c38656ddc43f613a65905f50602253f39fa30b"
   },
   "outputs": [],
   "source": [
    "ts_diff = date_sales - date_sales.shift(7)\n",
    "plt.figure(figsize=(22,10))\n",
    "plt.plot(ts_diff[:20000])\n",
    "plt.title(\"Differencing method\") \n",
    "plt.xlabel(\"Date\")\n",
    "plt.ylabel(\"Differencing Sales\");"
   ]
  },
  {
   "cell_type": "code",
   "execution_count": null,
   "metadata": {
    "ExecuteTime": {
     "end_time": "2018-08-18T04:12:03.729497Z",
     "start_time": "2018-08-18T04:12:03.529508Z"
    },
    "_uuid": "8e0b42adbdb42aedb8fb6bfe477c3900775ce925",
    "collapsed": true
   },
   "outputs": [],
   "source": [
    "df_raw = df_raw.reset_index()\n",
    "df_test = df_test.reset_index()"
   ]
  },
  {
   "cell_type": "code",
   "execution_count": null,
   "metadata": {
    "ExecuteTime": {
     "end_time": "2018-08-18T04:12:05.112497Z",
     "start_time": "2018-08-18T04:12:03.729497Z"
    },
    "_uuid": "0c5f0ae2241b8c50de866c03cc73b19342e4a064",
    "collapsed": true
   },
   "outputs": [],
   "source": [
    "import re\n",
    "def add_datepart(df, fldname, drop=True):\n",
    "\n",
    "    \"\"\"\n",
    "    Parameters:\n",
    "    -----------\n",
    "    df: A pandas data frame. df gain several new columns.\n",
    "    fldname: A string that is the name of the date column you wish to expand.\n",
    "        If it is not a datetime64 series, it will be converted to one with pd.to_datetime.\n",
    "    drop: If true then the original date column will be removed.\n",
    "    \"\"\"\n",
    "    \n",
    "    fld = df[fldname]\n",
    "    fld_dtype = fld.dtype\n",
    "    if isinstance(fld_dtype, pd.core.dtypes.dtypes.DatetimeTZDtype):\n",
    "        fld_dtype = np.datetime64\n",
    "\n",
    "    if not np.issubdtype(fld_dtype, np.datetime64):\n",
    "        df[fldname] = fld = pd.to_datetime(fld, infer_datetime_format=True)\n",
    "        \n",
    "    targ_pre = re.sub('[Dd]ate$', '', fldname)\n",
    "    \n",
    "    attr = ['Year', 'Month', 'Week', 'Day', 'Dayofweek', 'Dayofyear','weekofyear',\n",
    "            'Is_month_end', 'Is_month_start', 'Is_quarter_end', 'Is_quarter_start', 'Is_year_end', 'Is_year_start']\n",
    "    \n",
    "    for n in attr: \n",
    "        df[targ_pre + n] = getattr(fld.dt, n.lower())\n",
    "        \n",
    "    if drop: \n",
    "        df.drop(fldname, axis=1, inplace=True)\n",
    "\n",
    "add_datepart(df_raw,'date',False)\n",
    "add_datepart(df_test,'date',False)"
   ]
  },
  {
   "cell_type": "markdown",
   "metadata": {
    "_uuid": "1ef4ef796f927e3a134a0f4fd06966cdd28e0926"
   },
   "source": [
    "##  Few Pivoted Plots"
   ]
  },
  {
   "cell_type": "code",
   "execution_count": null,
   "metadata": {
    "_uuid": "776f390b13c9174a3eb5183f1653dfb7031c189d"
   },
   "outputs": [],
   "source": [
    "pivoted = pd.pivot_table(df_raw, values='sales', columns='Year', index='Month')\n",
    "pivoted.plot(figsize=(12,12));"
   ]
  },
  {
   "cell_type": "code",
   "execution_count": null,
   "metadata": {
    "_uuid": "1ceb035146439c352fc4f34b499e4082049ddb78"
   },
   "outputs": [],
   "source": [
    "pivoted = pd.pivot_table(df_raw, values='sales' , columns='Year', index='Week')\n",
    "pivoted.plot(figsize=(12,12));"
   ]
  },
  {
   "cell_type": "code",
   "execution_count": null,
   "metadata": {
    "_uuid": "037e71485a8b176b2cac73bf32e6018a6b0c4300"
   },
   "outputs": [],
   "source": [
    "pivoted = pd.pivot_table(df_raw, values='sales' , columns='Month', index='Day')\n",
    "pivoted.plot(figsize=(12,12));"
   ]
  },
  {
   "cell_type": "code",
   "execution_count": null,
   "metadata": {
    "_uuid": "7df59f215cf53e54470978647d96694aa697c694"
   },
   "outputs": [],
   "source": [
    "temp_1 = df_raw.groupby(['Year','Month','item'])['sales'].mean().reset_index()\n",
    "plt.figure(figsize=(12,8))\n",
    "sns.swarmplot('item', 'sales', data=temp_1, hue = 'Month');\n",
    "# Place legend to the right\n",
    "plt.legend(bbox_to_anchor=(1, 1), loc=2);"
   ]
  },
  {
   "cell_type": "code",
   "execution_count": null,
   "metadata": {
    "_uuid": "819c189bd93e65be80a82b3304e595f8001ad292",
    "collapsed": true,
    "scrolled": false
   },
   "outputs": [],
   "source": [
    "#In case the above plot is clutterd(which it is), try this, (Will create a grid for Year vs Month)\n",
    "#sns.factorplot('item', 'sales', data=temp_1, hue = 'Month', col='Year',row='Month', kind='swarm', size = 5);"
   ]
  },
  {
   "cell_type": "code",
   "execution_count": null,
   "metadata": {
    "_uuid": "64507b1a50c2026d2b9310fe88d6bd8c1a21b8b9"
   },
   "outputs": [],
   "source": [
    "temp_1 = df_raw.groupby(['Year','Month'])['sales'].mean().reset_index()\n",
    "plt.figure(figsize=(12,8));\n",
    "sns.lmplot('Month','sales',data = temp_1, hue='Year', fit_reg= False);"
   ]
  },
  {
   "cell_type": "code",
   "execution_count": null,
   "metadata": {
    "_uuid": "98e3a55122a16f1111c8a10a58c7f98f95e769e0"
   },
   "outputs": [],
   "source": [
    "temp_1 = df_raw.groupby(['Year'])['sales'].mean().reset_index()\n",
    "plt.figure(figsize=(12,8));\n",
    "sns.factorplot('Year','sales',data = temp_1, hue='Year', kind='point');"
   ]
  },
  {
   "cell_type": "code",
   "execution_count": null,
   "metadata": {
    "_uuid": "2718358c99e97958423234321c82eaeba6b3f270",
    "collapsed": true
   },
   "outputs": [],
   "source": [
    "def inverse_boxcox(y, lambda_):\n",
    "    return np.exp(y) if lambda_ == 0 else np.exp(np.log(lambda_ * y + 1) / lambda_)"
   ]
  },
  {
   "cell_type": "code",
   "execution_count": null,
   "metadata": {
    "ExecuteTime": {
     "end_time": "2018-08-18T04:12:05.727495Z",
     "start_time": "2018-08-18T04:12:05.292707Z"
    },
    "_uuid": "b60b4a1e9898035a30da47274c537b8d91a39e1f",
    "collapsed": true
   },
   "outputs": [],
   "source": [
    "original_target = df_raw.sales.values\n",
    "target, lambda_prophet = stats.boxcox(df_raw['sales'] + 1)\n",
    "len_train=target.shape[0]\n",
    "merged_df = pd.concat([df_raw, df_test])"
   ]
  },
  {
   "cell_type": "markdown",
   "metadata": {
    "_uuid": "828f8ad4f55c3874199daf7cdf8c5cbdf76de1af"
   },
   "source": [
    "## FE"
   ]
  },
  {
   "cell_type": "markdown",
   "metadata": {
    "_uuid": "aaa4c53df83aea7ee0683717297e03b1380317f8"
   },
   "source": [
    "**This Code Section rather (Features) comes from this Publicly Shared Kernel and added a bit more to it on basis of this discussion**\n",
    "\n",
    " - https://www.kaggle.com/abhilashawasthi/feature-engineering-lgb-model/comments#362974 (discussion)\n",
    "\n",
    " - https://www.kaggle.com/CVxTz/keras-starter (Kernel)\n",
    "\n",
    " - https://www.kaggle.com/abhilashawasthi/feature-engineering-lgb-model (Kernel)\n",
    "\n",
    "**Thanks a lot for the same !!!**\n",
    "\n",
    "**Aditya.**"
   ]
  },
  {
   "cell_type": "code",
   "execution_count": null,
   "metadata": {
    "ExecuteTime": {
     "end_time": "2018-08-18T04:12:45.870618Z",
     "start_time": "2018-08-18T04:12:05.727495Z"
    },
    "_uuid": "79154007c0a34f07e0bfc5e365bb37aa7e7e72dd"
   },
   "outputs": [],
   "source": [
    "%%time\n",
    "merged_df[\"median-store_item\"] = merged_df.groupby([\"item\", \"store\"])[\"sales\"].transform(\"median\")\n",
    "merged_df[\"mean-store_item\"] = merged_df.groupby([\"item\", \"store\"])[\"sales\"].transform(\"mean\")\n",
    "merged_df[\"mean-Month_item\"] = merged_df.groupby([\"Month\", \"item\"])[\"sales\"].transform(\"mean\")\n",
    "merged_df[\"median-Month_item\"] = merged_df.groupby([\"Month\", \"item\"])[\"sales\"].transform(\"median\")\n",
    "merged_df[\"median-Month_store\"] = merged_df.groupby([\"Month\", \"store\"])[\"sales\"].transform(\"median\")\n",
    "merged_df[\"median-item\"] = merged_df.groupby([\"item\"])[\"sales\"].transform(\"median\")\n",
    "merged_df[\"median-store\"] = merged_df.groupby([\"store\"])[\"sales\"].transform(\"median\")\n",
    "merged_df[\"mean-item\"] = merged_df.groupby([\"item\"])[\"sales\"].transform(\"mean\")\n",
    "merged_df[\"mean-store\"] = merged_df.groupby([\"store\"])[\"sales\"].transform(\"mean\")\n",
    "\n",
    "merged_df[\"median-store_item-Month\"] = merged_df.groupby(['Month', \"item\", \"store\"])[\"sales\"].transform(\"median\")\n",
    "merged_df[\"mean-store_item-week\"] = merged_df.groupby([\"item\", \"store\",'weekofyear'])[\"sales\"].transform(\"mean\")\n",
    "merged_df[\"item-Month-mean\"] = merged_df.groupby(['Month', \"item\"])[\"sales\"].transform(\"mean\")# mean sales of that item  for all stores scaled\n",
    "merged_df[\"store-Month-mean\"] = merged_df.groupby(['Month', \"store\"])[\"sales\"].transform(\"mean\")# mean sales of that store  for all items scaled\n",
    "\n",
    "# adding more lags (Check the rationale behind this in the links attached)\n",
    "lags = [90,91,98,105,112,119,126,182,189,364]\n",
    "for i in lags:\n",
    "#     print(\"Done For Lag {}\".format(i))\n",
    "    merged_df['_'.join(['item-week_shifted-', str(i)])] = merged_df.groupby(['weekofyear',\"item\"])[\"sales\"].transform(lambda x:x.shift(i).sum()) \n",
    "    merged_df['_'.join(['item-week_shifted-', str(i)])] = merged_df.groupby(['weekofyear',\"item\"])[\"sales\"].transform(lambda x:x.shift(i).mean()) \n",
    "    merged_df['_'.join(['item-week_shifted-', str(i)])].fillna(merged_df['_'.join(['item-week_shifted-', str(i)])].mode()[0], inplace=True)\n",
    "    ##### sales for that item i days in the past\n",
    "    merged_df['_'.join(['store-week_shifted-', str(i)])] = merged_df.groupby(['weekofyear',\"store\"])[\"sales\"].transform(lambda x:x.shift(i).sum())\n",
    "    merged_df['_'.join(['store-week_shifted-', str(i)])] = merged_df.groupby(['weekofyear',\"store\"])[\"sales\"].transform(lambda x:x.shift(i).mean()) \n",
    "    merged_df['_'.join(['store-week_shifted-', str(i)])].fillna(merged_df['_'.join(['store-week_shifted-', str(i)])].mode()[0], inplace=True)"
   ]
  },
  {
   "cell_type": "code",
   "execution_count": null,
   "metadata": {
    "ExecuteTime": {
     "end_time": "2018-08-18T04:12:46.290906Z",
     "start_time": "2018-08-18T04:12:45.870618Z"
    },
    "_uuid": "fbfa6c34633a16f08eeab7bfe553a618c2fa7461",
    "collapsed": true
   },
   "outputs": [],
   "source": [
    "df_raw.drop('sales', axis=1, inplace=True)\n",
    "merged_df.drop(['id','date','sales'], axis=1, inplace=True)"
   ]
  },
  {
   "cell_type": "code",
   "execution_count": null,
   "metadata": {
    "ExecuteTime": {
     "end_time": "2018-08-18T04:12:46.486636Z",
     "start_time": "2018-08-18T04:12:46.290906Z"
    },
    "_uuid": "7afdc18b94524281b9f4b3c801509b450263d519"
   },
   "outputs": [],
   "source": [
    "merged_df.head(1)"
   ]
  },
  {
   "cell_type": "code",
   "execution_count": null,
   "metadata": {
    "ExecuteTime": {
     "end_time": "2018-08-18T04:12:46.766452Z",
     "start_time": "2018-08-18T04:12:46.486636Z"
    },
    "_uuid": "7cd7d128702cda6408283b4553da795562bb94ad",
    "collapsed": true
   },
   "outputs": [],
   "source": [
    "# comes from the public kernel\n",
    "merged_df = merged_df * 1\n",
    "params = {\n",
    "    'nthread': 4,\n",
    "    'categorical_feature' : [0,1,9,10,12,13,14], # Day, DayOfWeek, Month, Week, Item, Store, WeekOfYear\n",
    "    'max_depth': 8,\n",
    "    'task': 'train',\n",
    "    'boosting_type': 'gbdt',\n",
    "    'objective': 'regression_l1',\n",
    "    'metric': 'mape', # this is abs(a-e)/max(1,a)\n",
    "    'num_leaves': 127,\n",
    "    'learning_rate': 0.25,\n",
    "    'feature_fraction': 0.9,\n",
    "    'bagging_fraction': 0.8,\n",
    "    'bagging_freq': 30,\n",
    "    'lambda_l1': 0.06,\n",
    "    'lambda_l2': 0.1,\n",
    "    'verbose': -1\n",
    "}"
   ]
  },
  {
   "cell_type": "code",
   "execution_count": null,
   "metadata": {
    "ExecuteTime": {
     "end_time": "2018-07-31T13:49:09.552361Z",
     "start_time": "2018-07-31T13:45:06.104326Z"
    },
    "_uuid": "6058b8fa71b545ebd077e1337751bf231134b52e",
    "scrolled": false
   },
   "outputs": [],
   "source": [
    "# do the training\n",
    "num_folds = 3\n",
    "test_x = merged_df[len_train:].values\n",
    "all_x = merged_df[:len_train].values\n",
    "all_y = target # removing what we did earlier\n",
    "\n",
    "oof_preds = np.zeros([all_y.shape[0]])\n",
    "sub_preds = np.zeros([test_x.shape[0]])\n",
    "\n",
    "feature_importance_df = pd.DataFrame()\n",
    "folds = KFold(n_splits=num_folds, shuffle=True, random_state=345665)\n",
    "\n",
    "for n_fold, (train_idx, valid_idx) in enumerate(folds.split(all_x)):\n",
    "    \n",
    "    train_x, train_y = all_x[train_idx], all_y[train_idx]\n",
    "    valid_x, valid_y = all_x[valid_idx], all_y[valid_idx]\n",
    "    lgb_train = lgb.Dataset(train_x,train_y)\n",
    "    lgb_valid = lgb.Dataset(valid_x,valid_y)\n",
    "        \n",
    "    # train\n",
    "    gbm = lgb.train(params, lgb_train, 1000, \n",
    "        valid_sets=[lgb_train, lgb_valid],\n",
    "        early_stopping_rounds=100, verbose_eval=100)\n",
    "    \n",
    "    oof_preds[valid_idx] = gbm.predict(valid_x, num_iteration=gbm.best_iteration)\n",
    "    sub_preds[:] += gbm.predict(test_x, num_iteration=gbm.best_iteration) / folds.n_splits\n",
    "    valid_idx += 1\n",
    "    importance_df = pd.DataFrame()\n",
    "    importance_df['feature'] = merged_df.columns\n",
    "    importance_df['importance'] = gbm.feature_importance()\n",
    "    importance_df['fold'] = n_fold + 1\n",
    "    feature_importance_df = pd.concat([feature_importance_df, importance_df], axis=0)\n",
    "    \n",
    "e = 2 * abs(all_y - oof_preds) / ( abs(all_y)+abs(oof_preds) )\n",
    "e = e.mean()\n",
    "print('Full validation score With Box Cox %.4f' %e)\n",
    "print('Inverting Box Cox Transformation')\n",
    "print('Done!!')\n",
    "\n",
    "sub_preds = inverse_boxcox(sub_preds , lambda_prophet) - 1\n",
    "oof_preds = inverse_boxcox(oof_preds , lambda_prophet) - 1\n",
    "e = 2 * abs(all_y - oof_preds) / ( abs(all_y)+abs(oof_preds) )\n",
    "e = e.mean()\n",
    "print('Full validation score Re-Box Cox Transformation is %.4f' %e)\n",
    "#Don't Forget to apply inverse box-cox"
   ]
  },
  {
   "cell_type": "code",
   "execution_count": null,
   "metadata": {
    "_uuid": "cd991f1b0ef5915b1af9689406e7473f1add5552"
   },
   "outputs": [],
   "source": [
    "feature_importance_df.head()"
   ]
  },
  {
   "cell_type": "code",
   "execution_count": null,
   "metadata": {
    "_uuid": "924d66e8bd2397d0b1aca0f735452f700d1fc4ae",
    "collapsed": true
   },
   "outputs": [],
   "source": [
    "importance_df.sort_values(['importance'], ascending=False, inplace=True);"
   ]
  },
  {
   "cell_type": "code",
   "execution_count": null,
   "metadata": {
    "_uuid": "1f7a7e4ea0c2d704ae17dd7c4eb2fd97e37f213f",
    "collapsed": true
   },
   "outputs": [],
   "source": [
    "def plot_fi(fi): \n",
    "    return fi.plot('feature', 'importance', 'barh', figsize=(12,12), legend=False)"
   ]
  },
  {
   "cell_type": "code",
   "execution_count": null,
   "metadata": {
    "_uuid": "e8cd37f26d64cb01abb3906c84b6b0cb745df7fd"
   },
   "outputs": [],
   "source": [
    "plot_fi(importance_df[:]);"
   ]
  },
  {
   "cell_type": "code",
   "execution_count": null,
   "metadata": {
    "_uuid": "084c12a7a15c789d1c1aab44d9e2a14772fdbe05"
   },
   "outputs": [],
   "source": [
    "merged_df.get_ftype_counts()"
   ]
  },
  {
   "cell_type": "code",
   "execution_count": null,
   "metadata": {
    "ExecuteTime": {
     "end_time": "2018-08-18T05:12:58.323154Z",
     "start_time": "2018-08-18T05:12:57.796594Z"
    },
    "_uuid": "2010f2e3a28480eb3656b36d531f61e74b9583f7"
   },
   "outputs": [],
   "source": [
    "# OHE FOR 0,1,9,10,12,13,14  Cols - Day, Dayofweek, Month, Week, item, store, weekofyear\n",
    "print(\"Before OHE\", merged_df.shape)\n",
    "merged_df = pd.get_dummies(merged_df, columns=['Day', 'Dayofweek', 'Month', 'Week', 'item', 'store', 'weekofyear'])\n",
    "print(\"After OHE\", merged_df.shape)\n",
    "test_x = merged_df[len_train:].values\n",
    "all_x = merged_df[:len_train].values\n",
    "all_y = target;"
   ]
  },
  {
   "cell_type": "code",
   "execution_count": null,
   "metadata": {
    "_uuid": "c5156cc59064657bb1f329be21e920ad0716e7aa",
    "collapsed": true
   },
   "outputs": [],
   "source": [
    "def XGB_regressor(train_X, train_y, test_X, test_y= None, feature_names=None, seed_val=2018, num_rounds=500):\n",
    "\n",
    "    param = {}\n",
    "    param['objective'] = 'reg:linear'\n",
    "    param['eta'] = 0.1\n",
    "    param['max_depth'] = 5\n",
    "    param['silent'] = 1\n",
    "    param['eval_metric'] = 'mae'\n",
    "    param['min_child_weight'] = 4\n",
    "    param['subsample'] = 0.8\n",
    "    param['colsample_bytree'] = 0.8\n",
    "    param['seed'] = seed_val\n",
    "    num_rounds = num_rounds\n",
    "\n",
    "    plst = list(param.items())\n",
    "\n",
    "    xgtrain = xgb.DMatrix(train_X, label=train_y)\n",
    "\n",
    "    if test_y is not None:\n",
    "        xgtest = xgb.DMatrix(test_X, label=test_y)\n",
    "        watchlist = [ (xgtrain,'train'), (xgtest, 'test') ]\n",
    "        model = xgb.train(plst, xgtrain, num_rounds, watchlist, early_stopping_rounds=20)\n",
    "    else:\n",
    "        xgtest = xgb.DMatrix(test_X)\n",
    "        model = xgb.train(plst, xgtrain, num_rounds)\n",
    "        \n",
    "    return model    "
   ]
  },
  {
   "cell_type": "code",
   "execution_count": null,
   "metadata": {
    "_uuid": "4b1142052050c75b7057f1c66dc9cf78f3d5b619",
    "collapsed": true
   },
   "outputs": [],
   "source": [
    "model = XGB_regressor(train_X = all_x, train_y = all_y, test_X = test_x)\n",
    "y_test = model.predict(xgb.DMatrix(test_x), ntree_limit = model.best_ntree_limit)"
   ]
  },
  {
   "cell_type": "code",
   "execution_count": null,
   "metadata": {
    "_uuid": "cb05df045d7c51d968d6c869c5ac95d467f43530",
    "collapsed": true
   },
   "outputs": [],
   "source": [
    "print('Inverting Box Cox Transformation')\n",
    "y_test = inverse_boxcox(y_test, lambda_prophet) - 1"
   ]
  },
  {
   "cell_type": "markdown",
   "metadata": {
    "_uuid": "1546ae2c0cb628723192fb79bdab5eef07159a99",
    "heading_collapsed": true
   },
   "source": [
    "## Prophet\n",
    "\n",
    "*(From the Docs Itself)*\n",
    "\n",
    "let's take a closer look at how Prophet works. In its essence, this library utilizes the additive regression model $y(t)$ comprising the following components:\n",
    "\n",
    "$$y(t) = g(t) + s(t) + h(t) + \\epsilon_{t},$$ where:\n",
    "\n",
    "- Trend $g(t)$ models non-periodic changes.\n",
    "- Seasonality $s(t)$ represents periodic changes.\n",
    "- Holidays component $h(t)$ contributes information about holidays and events.\n",
    "\n",
    "\n",
    "> ### Trend     $g(t)$\n",
    "\n",
    "The Prophet library implements two possible trend models for $g(t)$.\n",
    "\n",
    "The first one is called Nonlinear, Saturating Growth. It is represented in the form of the logistic growth model:\n",
    "\n",
    "$$g(t) = \\frac{C}{1+e^{-k(t - m)}},$$ where:\n",
    "\n",
    "- $C$ is the carrying capacity (that is the curve's maximum value).\n",
    "- $k$ is the growth rate (which represents \"the steepness\" of the curve).\n",
    "- $m$ is an offset parameter.\n",
    "\n",
    "> ### Seasonality    $s(t)$\n",
    "\n",
    "The seasonal component $s(t)$ provides a flexible model of periodic changes due to weekly and yearly seasonality. Yearly seasonality model in Prophet relies on Fourier series.\n",
    "\n",
    "> ### Holidays and Events      $h(t)$\n",
    "\n",
    "The component $h(t)$ represents predictable abnormal days of the year including those on irregular schedules, e.g., Black Fridays.\n",
    "\n",
    "To utilize this feature, the analyst needs to provide a custom list of events.\n",
    "\n",
    "> ### Error    $\\epsilon(t)$\n",
    "\n",
    "The error term $\\epsilon(t)$ represents information that was not reflected in the model. Usually it is modeled as normally distributed noise.\n",
    "\n",
    "In describing these time series, we have used words such as $“trend”$ and $“seasonal”$ which need to be defined more carefully.\n",
    "\n",
    ">Trend\n",
    "\n",
    " A trend exists when there is a long-term increase or decrease in the data. It does not have to be linear. Sometimes we will refer to a trend as “changing direction”, when it might go from an increasing trend to a decreasing trend.\n",
    " \n",
    "> Seasonal\n",
    "\n",
    " A seasonal pattern occurs when a time series is affected by seasonal factors such as the time of the year or the day of the week. Seasonality is always of a fixed and known frequency.\n",
    "\n",
    "> Cycle\n",
    "\n",
    "A cycle occurs when the data exhibit rises and falls that are not of a fixed frequency. These fluctuations are usually due to economic conditions, and are often related to the “business cycle”. The duration of these fluctuations is usually at least 2 years."
   ]
  },
  {
   "cell_type": "code",
   "execution_count": null,
   "metadata": {
    "ExecuteTime": {
     "end_time": "2018-08-17T17:37:30.650534Z",
     "start_time": "2018-08-17T17:37:30.342512Z"
    },
    "_uuid": "b9a61497f9bb20728fe4bdcf1dccf5942b899092",
    "collapsed": true,
    "hidden": true
   },
   "outputs": [],
   "source": [
    "df = date_sales.reset_index()\n",
    "df.columns = ['ds', 'y']"
   ]
  },
  {
   "cell_type": "code",
   "execution_count": null,
   "metadata": {
    "_uuid": "2c884880c2ab8e3737bbac96e8036dbac4e4978b",
    "collapsed": true
   },
   "outputs": [],
   "source": [
    "df.head()"
   ]
  },
  {
   "cell_type": "code",
   "execution_count": null,
   "metadata": {
    "ExecuteTime": {
     "end_time": "2018-08-17T17:39:04.548732Z",
     "start_time": "2018-08-17T17:39:04.068197Z"
    },
    "_uuid": "0025a3f5a703c345851f3fc596aaeeaf03e9e689",
    "collapsed": true,
    "hidden": true
   },
   "outputs": [],
   "source": [
    "df['store'] = df_raw['store'].copy()\n",
    "df['Week'] = df_raw['Week'].copy()\n",
    "df['item'] = df_raw['item'].copy()"
   ]
  },
  {
   "cell_type": "code",
   "execution_count": null,
   "metadata": {
    "_uuid": "82aa4e9dc3c31b7add42e676ed31e24f6a6cfe19",
    "collapsed": true
   },
   "outputs": [],
   "source": [
    "df = df.query('item == 1 & store == 1')"
   ]
  },
  {
   "cell_type": "code",
   "execution_count": null,
   "metadata": {
    "_uuid": "4ec95179648861058b7723bae53dd76138c3c9dd",
    "collapsed": true
   },
   "outputs": [],
   "source": [
    "df.groupby(['Week','store','item'])['y'].mean().reset_index().head(10)"
   ]
  },
  {
   "cell_type": "markdown",
   "metadata": {
    "_uuid": "672655d1c6af465475ed6144b54e85309fe9b49b",
    "hidden": true
   },
   "source": [
    "- The authors of the library generally advise to make predictions based on at least several months, ideally, more than a year of historical data. Luckily, in our case we have more than a couple of years of data to fit the model.\n",
    "\n",
    "- To measure the quality of our forecast, we need to split our dataset into the historical part and the prediction part... (We should have done this)"
   ]
  },
  {
   "cell_type": "code",
   "execution_count": null,
   "metadata": {
    "_uuid": "e13d9086eb2462022f45990e1f988e88e2b83c72",
    "collapsed": true
   },
   "outputs": [],
   "source": [
    "prediction_size = 31 \n",
    "train_df = df[:-prediction_size]\n",
    "train_df.tail(n=3)"
   ]
  },
  {
   "cell_type": "markdown",
   "metadata": {
    "_uuid": "b204bb1f27b003f3aceb4fb955b34b231d016059",
    "hidden": true
   },
   "source": [
    "Now we need to create a new Prophet object. Here we can pass the parameters of the model into the constructor. But currently we will use the defaults as it is.. Then we train our model by invoking its fit method on our training dataset:"
   ]
  },
  {
   "cell_type": "code",
   "execution_count": null,
   "metadata": {
    "ExecuteTime": {
     "end_time": "2018-08-17T17:43:38.514763Z",
     "start_time": "2018-08-17T17:41:26.881564Z"
    },
    "_uuid": "aaa4d3077f7e0e0fa6395599c5fe5874742fa91b",
    "collapsed": true,
    "hidden": true
   },
   "outputs": [],
   "source": [
    "%%time\n",
    "m = Prophet(yearly_seasonality=True, weekly_seasonality=True, daily_seasonality=True)\n",
    "m.fit(train_df[['ds','y']]);"
   ]
  },
  {
   "cell_type": "markdown",
   "metadata": {
    "_uuid": "d83216c7efc019906eac8bbbf678f5b8641783ac",
    "hidden": true
   },
   "source": [
    "Using the helper method ```Prophet.make_future_dataframe```, we create a dataframe which will contain all dates from the history and also extend into the future for those 92 days that we left out before."
   ]
  },
  {
   "cell_type": "code",
   "execution_count": null,
   "metadata": {
    "ExecuteTime": {
     "end_time": "2018-08-17T17:43:38.698852Z",
     "start_time": "2018-08-17T17:43:38.514763Z"
    },
    "_uuid": "a1c3b380d478ea57b1603b9020d5a4193130e0da",
    "collapsed": true,
    "hidden": true
   },
   "outputs": [],
   "source": [
    "future = m.make_future_dataframe(periods=prediction_size)\n",
    "future.tail(n=3)"
   ]
  },
  {
   "cell_type": "markdown",
   "metadata": {
    "_uuid": "315cf95b55856dc7906c44031ddd79fc2c6d3756",
    "hidden": true
   },
   "source": [
    "We predict values with Prophet by passing in the dates for which we want to create a forecast. If we also supply the historical dates (as in our case), then in addition to the prediction we will get an in-sample fit for the history. Let's call the model's predict method with our future dataframe as an input:"
   ]
  },
  {
   "cell_type": "code",
   "execution_count": null,
   "metadata": {
    "ExecuteTime": {
     "end_time": "2018-08-17T17:45:07.850341Z",
     "start_time": "2018-08-17T17:43:38.698852Z"
    },
    "_uuid": "0eb689345cef69c95c1cc7215261abfa8d66be87",
    "collapsed": true,
    "hidden": true
   },
   "outputs": [],
   "source": [
    "%%time\n",
    "forecast = m.predict(future)\n",
    "forecast.tail(n=3)"
   ]
  },
  {
   "cell_type": "markdown",
   "metadata": {
    "_uuid": "237ed79771ee872513d8d0c741795fc5fb41f6f3",
    "hidden": true
   },
   "source": [
    "In the resulting dataframe you can see many columns characterizing the prediction, including trend and seasonality components as well as their confidence intervals. The forecast itself is stored in the yhat column.\n",
    "\n",
    "The Prophet library has its own built-in tools for visualization that enable us to quickly evaluate the result.\n",
    "\n",
    "- First, there is a method called Prophet.plot that plots all the points from the forecast:\n",
    "- The Second function Prophet.plot_components might be much more useful in our case. It allows us to observe different components of the model separately: trend, yearly and weekly seasonality. In addition, if you supply information about holidays and events to your model, they will also be shown in this plot.\n",
    "\n",
    "Let's try it out:"
   ]
  },
  {
   "cell_type": "code",
   "execution_count": null,
   "metadata": {
    "ExecuteTime": {
     "end_time": "2018-08-17T17:45:09.855350Z",
     "start_time": "2018-08-17T17:45:07.850341Z"
    },
    "_uuid": "0184a37738bad0c62e44374bfc46aa8a41b3f5c4",
    "collapsed": true,
    "hidden": true
   },
   "outputs": [],
   "source": [
    "m.plot(forecast)\n",
    "m.plot_components(forecast)"
   ]
  },
  {
   "cell_type": "code",
   "execution_count": null,
   "metadata": {
    "ExecuteTime": {
     "end_time": "2018-08-17T17:45:10.088060Z",
     "start_time": "2018-08-17T17:45:09.855350Z"
    },
    "_uuid": "0aa68e8a2e25bba7d369347dfdb940224a61dcde",
    "collapsed": true,
    "hidden": true
   },
   "outputs": [],
   "source": [
    "#Such a bad baseline forecasting on train data.Isn't it!! "
   ]
  },
  {
   "cell_type": "markdown",
   "metadata": {
    "_uuid": "e4512a1b5f4501ae2b688b2371bcb50d7bb359d1",
    "hidden": true
   },
   "source": [
    "The last Weekly Plot Says it All.\n",
    "\n",
    "- **Seems like People go to Shopping Mostly in July**[](http://)\n",
    "- **Have a look at the peak at Sundays and Saturdays** **(3rd Plot)**\n",
    "- **So we should add the holidays effect to make Prohet perform better.**"
   ]
  },
  {
   "cell_type": "markdown",
   "metadata": {
    "_uuid": "f2b19b93ef234813b994c024d66cb01ae9cfe145"
   },
   "source": [
    "## Adding Holidays (Finally)"
   ]
  },
  {
   "cell_type": "markdown",
   "metadata": {
    "_uuid": "2348fa16c67056cbe66efe09870eaff76d205be5"
   },
   "source": [
    "Kindly Refer To the [docs](https://facebook.github.io/prophet/docs/seasonality,_holiday_effects,_and_regressors.html) for the nomenclature...\n",
    "\n",
    "(In my understanding, It's just denoting that one is more dominant than the other..)"
   ]
  },
  {
   "cell_type": "code",
   "execution_count": null,
   "metadata": {
    "_uuid": "47f6aba4f705f38d6d3b97b97fdd4824de61aa80",
    "collapsed": true
   },
   "outputs": [],
   "source": [
    "playoffs = pd.DataFrame({\n",
    "  'holiday' : 'playoff',\n",
    "  'ds' : pd.to_datetime(['2013-01-12','2013-07-12','2013-12-24','2014-01-12', '2014-07-12', '2014-07-19',\n",
    "                 '2014-07-02','2014-12-24', '2015-07-11','2015-12-24', '2016-07-17',\n",
    "                 '2016-07-24', '2016-07-07','2016-07-24','2016-12-24','2017-07-17','2017-07-24','2017-07-07','2017-12-24']),\n",
    "  'lower_window' : 0,\n",
    "  'upper_window' : 2}\n",
    ")\n",
    "superbowls = pd.DataFrame({\n",
    "  'holiday': 'superbowl',\n",
    "  'ds': pd.to_datetime(['2013-01-01','2013-01-21','2013-02-14','2013-02-18',\n",
    "'2013-05-27','2013-07-04','2013-09-02','2013-10-14','2013-11-11','2013-11-28','2013-12-25','2014-01-01','2014-01-20','2014-02-14','2014-02-17',\n",
    "'2014-05-26','2014-07-04','2014-09-01','2014-10-13','2014-11-11','2014-11-27','2014-12-25','2015-01-01','2015-01-19','2015-02-14','2015-02-16',\n",
    "'2015-05-25','2015-07-03','2015-09-07','2015-10-12','2015-11-11','2015-11-26','2015-12-25','2016-01-01','2016-01-18','2016-02-14','2016-02-15',\n",
    "'2016-05-30','2016-07-04','2016-09-05','2016-10-10','2016-11-11','2016-11-24','2016-12-25','2017-01-02','2017-01-16','2017-02-14','2017-02-20',\n",
    "'2017-05-29','2017-07-04','2017-09-04','2017-10-09','2017-11-10','2017-11-23','2017-12-25','2018-01-01','2018-01-15','2018-02-14','2018-02-19'\n",
    "                       ]),\n",
    "  'lower_window': 0,\n",
    "  'upper_window': 3,\n",
    "})\n",
    "\n",
    "holidays = pd.concat((playoffs, superbowls))"
   ]
  },
  {
   "cell_type": "code",
   "execution_count": null,
   "metadata": {
    "_uuid": "5e52f2fe9cfd5698cd3d0f00b90923e74e1f7d63",
    "collapsed": true
   },
   "outputs": [],
   "source": [
    "%%time\n",
    "m_holi = Prophet(yearly_seasonality=True, weekly_seasonality=True, daily_seasonality=True, holidays=holidays)\n",
    "m_holi.fit(train_df[['ds','y']]);"
   ]
  },
  {
   "cell_type": "code",
   "execution_count": null,
   "metadata": {
    "_uuid": "b7fffb6ca44951821cfc016cb26ded3e1803c30c",
    "collapsed": true
   },
   "outputs": [],
   "source": [
    "future_holi = m_holi.make_future_dataframe(periods=prediction_size)\n",
    "future_holi.tail(n=3)"
   ]
  },
  {
   "cell_type": "markdown",
   "metadata": {
    "_uuid": "b26c297b693c1979a1be1bfa1788fe2655293941"
   },
   "source": [
    "The holiday effect can be seen in the forecast dataframe:"
   ]
  },
  {
   "cell_type": "code",
   "execution_count": null,
   "metadata": {
    "_uuid": "2e88c22c5982731c4dfb08d0bb88071386843c9a",
    "collapsed": true
   },
   "outputs": [],
   "source": [
    "%%time\n",
    "forecast_holi = m_holi.predict(future_holi)\n",
    "forecast_holi.tail(n=3)"
   ]
  },
  {
   "cell_type": "code",
   "execution_count": null,
   "metadata": {
    "_uuid": "ee90364922d475c623190ce83e1497f17a9f1993",
    "collapsed": true
   },
   "outputs": [],
   "source": [
    "#from the docs..\n",
    "forecast_holi[(forecast_holi['playoff'] + forecast_holi['superbowl']).abs() > 0][\n",
    "        ['ds', 'playoff', 'superbowl']][-10:]"
   ]
  },
  {
   "cell_type": "markdown",
   "metadata": {
    "_uuid": "43b3b40b46208ee87d3f0e93487a4870f195a7f6"
   },
   "source": [
    "The holiday effects will also show up in the components plot, where we see that there is a spike on the days around playoff appearances, with an especially large spike for the superbowl:"
   ]
  },
  {
   "cell_type": "code",
   "execution_count": null,
   "metadata": {
    "_uuid": "e5755adc0a45e9ef681e43e4103dd96e7d62e6bb",
    "collapsed": true
   },
   "outputs": [],
   "source": [
    "m_holi.plot(forecast_holi)\n",
    "m_holi.plot_components(forecast_holi)"
   ]
  },
  {
   "cell_type": "code",
   "execution_count": null,
   "metadata": {
    "_uuid": "21edef379045f05a2a06c664e9a9f8c0578d1042",
    "collapsed": true
   },
   "outputs": [],
   "source": [
    "#remember that we will evaluate the forcast later.."
   ]
  },
  {
   "cell_type": "markdown",
   "metadata": {
    "_uuid": "ce2cdff1ebf61d3a0913b86ebdcd8151ad880553"
   },
   "source": [
    "## Forecast quality evaluation"
   ]
  },
  {
   "cell_type": "code",
   "execution_count": null,
   "metadata": {
    "_uuid": "5e40b77cc9343bb180847649a0b5544dfeb60b08",
    "collapsed": true
   },
   "outputs": [],
   "source": [
    "print(', '.join(forecast.columns))"
   ]
  },
  {
   "cell_type": "markdown",
   "metadata": {
    "_uuid": "b64cf8731a255adb6b12553eb2ecdcb6b18d1c3d"
   },
   "source": [
    "We can see that this dataframe contains all the information we need except for the historical values. We need to join the forecast object with the actual values y from the original dataset"
   ]
  },
  {
   "cell_type": "code",
   "execution_count": null,
   "metadata": {
    "_uuid": "9174c45e19c15aaeac0843ecdda1fa9d7caefb4b",
    "collapsed": true
   },
   "outputs": [],
   "source": [
    "def make_comparison_dataframe(historical, forecast):\n",
    "    \"\"\"Join the history with the forecast\n",
    "       The resulting dataset will contain columns 'yhat', 'yhat_lower', 'yhat_upper' and 'y'.\n",
    "    \"\"\"\n",
    "    return forecast.set_index('ds')[['yhat', 'yhat_lower', 'yhat_upper']].join(historical.set_index('ds'))"
   ]
  },
  {
   "cell_type": "code",
   "execution_count": null,
   "metadata": {
    "_uuid": "17d85d3ffc9c23eafe6c7ca707558c6c303b5837",
    "collapsed": true
   },
   "outputs": [],
   "source": [
    "cmp_df = make_comparison_dataframe(df, forecast)\n",
    "cmp_df.tail(3)"
   ]
  },
  {
   "cell_type": "code",
   "execution_count": null,
   "metadata": {
    "_uuid": "f22231eed5b7118663b9379b6a82a37fb1a09f15",
    "collapsed": true
   },
   "outputs": [],
   "source": [
    "cmp_df_holi = make_comparison_dataframe(df, forecast_holi)\n",
    "cmp_df_holi.tail(3)"
   ]
  },
  {
   "cell_type": "markdown",
   "metadata": {
    "_uuid": "44753cc3edf8a6f89cec66b89c128f5543e7e1ed"
   },
   "source": [
    "We are also going to define a helper function that we will use to gauge the quality of our forecasting with MAPE and MAE error measures:"
   ]
  },
  {
   "cell_type": "code",
   "execution_count": null,
   "metadata": {
    "_uuid": "3dfda9d9e5c3f71bcabc7bd255edc86dc0a82671",
    "collapsed": true
   },
   "outputs": [],
   "source": [
    "def calculate_forecast_errors(df, prediction_size):\n",
    "    \"\"\"Calculate MAPE and MAE of the forecast.\n",
    "    \n",
    "       Args:\n",
    "           df: joined dataset with 'y' and 'yhat' columns.\n",
    "           prediction_size: number of days at the end to predict.\n",
    "    \"\"\"\n",
    "    \n",
    "    # Make a copy\n",
    "    df = df.copy()\n",
    "    \n",
    "    # Now we calculate the values of e_i and p_i according to the formulas given in the article above.\n",
    "    df['e'] = df['y'] - df['yhat']\n",
    "    df['p'] = 100 * df['e'] / df['y']\n",
    "    \n",
    "    # Recall that we held out the values of the last `prediction_size` days\n",
    "    # in order to predict them and measure the quality of the model. \n",
    "    \n",
    "    # Now cut out the part of the data which we made our prediction for.\n",
    "    predicted_part = df[-prediction_size:]\n",
    "    \n",
    "    # Define the function that averages absolute error values over the predicted part.\n",
    "    error_mean = lambda error_name: np.mean(np.abs(predicted_part[error_name]))\n",
    "    \n",
    "    # Now we can calculate MAPE and MAE and return the resulting dictionary of errors.\n",
    "    return {'MAPE': error_mean('p'), 'MAE': error_mean('e')}"
   ]
  },
  {
   "cell_type": "code",
   "execution_count": null,
   "metadata": {
    "_uuid": "6c8e0fa0bdd56061adcfbf624807d125733c556c",
    "collapsed": true
   },
   "outputs": [],
   "source": [
    "for err_name, err_value in calculate_forecast_errors(cmp_df, prediction_size).items():\n",
    "    print('Non Holiday', err_name, err_value)"
   ]
  },
  {
   "cell_type": "code",
   "execution_count": null,
   "metadata": {
    "_uuid": "0a7093bfaac3ce87d3640f3a947da5aebf2928c7",
    "collapsed": true
   },
   "outputs": [],
   "source": [
    "for err_name, err_value in calculate_forecast_errors(cmp_df_holi, prediction_size).items():\n",
    "    print('Including Holiday', err_name, err_value)"
   ]
  },
  {
   "cell_type": "markdown",
   "metadata": {
    "_uuid": "06b1a05b993d51a98906d547fb010d7478c3fcf0"
   },
   "source": [
    "As a result, the relative error of our forecast (MAPE) is about 27.5%, and on average our model is wrong by 3.54 predicts (MAE)."
   ]
  },
  {
   "cell_type": "code",
   "execution_count": null,
   "metadata": {
    "_uuid": "b0d2fd09110b4f3709e32c277981ea537586b8ac",
    "collapsed": true,
    "scrolled": false
   },
   "outputs": [],
   "source": [
    "from plotly.offline import init_notebook_mode, iplot\n",
    "from plotly import graph_objs as go\n",
    "\n",
    "# Initialize plotly\n",
    "init_notebook_mode(connected=True)\n",
    "\n",
    "def show_forecast(cmp_df, num_predictions, num_values, title):\n",
    "    \"\"\"Visualize the forecast.\"\"\"\n",
    "    \n",
    "    def create_go(name, column, num, **kwargs):\n",
    "        points = cmp_df.tail(num)\n",
    "        args = dict(name=name, x=points.index, y=points[column], mode='lines')\n",
    "        args.update(kwargs)\n",
    "        return go.Scatter(**args)\n",
    "    \n",
    "    lower_bound = create_go('Lower Bound', 'yhat_lower', num_predictions,\n",
    "                            line=dict(width=0),\n",
    "                            marker=dict(color=\"aqua\"))\n",
    "    upper_bound = create_go('Upper Bound', 'yhat_upper', num_predictions,\n",
    "                            line=dict(width=0),\n",
    "                            marker=dict(color=\"aqua\"),\n",
    "                            fillcolor='rgba(68, 68, 68, 0.3)', \n",
    "                            fill='tonexty')\n",
    "    forecast = create_go('Forecast', 'yhat', num_predictions,\n",
    "                         line=dict(color='rgb(31, 119, 180)'))\n",
    "    actual = create_go('Actual', 'y', num_values,\n",
    "                       marker=dict(color=\"red\"))\n",
    "    \n",
    "    # In this case the order of the series is important because of the filling\n",
    "    data = [lower_bound, upper_bound, forecast, actual]\n",
    "\n",
    "    layout = go.Layout(yaxis=dict(title='sales'), title=title, showlegend = False)\n",
    "    fig = go.Figure(data=data, layout=layout)\n",
    "    iplot(fig, show_link=False)\n",
    "\n",
    "show_forecast(cmp_df, prediction_size, 100, 'Sales on Store $1$ for Item $1$')"
   ]
  },
  {
   "cell_type": "code",
   "execution_count": null,
   "metadata": {
    "_uuid": "2d0cb530639b0f7dbcf10d122378fb9d1799ba34",
    "collapsed": true,
    "scrolled": false
   },
   "outputs": [],
   "source": [
    "show_forecast(cmp_df_holi, prediction_size, 100, 'Sales on Store $1$ for Item $1$ Holidays Version')"
   ]
  },
  {
   "cell_type": "markdown",
   "metadata": {
    "_uuid": "a9bcd3cd317f2ffe1680877f357bf3197bfd951c"
   },
   "source": [
    "### Prophet With Box Cox Transformation"
   ]
  },
  {
   "cell_type": "code",
   "execution_count": null,
   "metadata": {
    "_uuid": "c35563ea3a699ce21e06e6f132fa3288be0b41d1",
    "collapsed": true
   },
   "outputs": [],
   "source": [
    "#train_df2 = df.copy().set_index('ds')\n",
    "train_df2 = df[:-prediction_size]"
   ]
  },
  {
   "cell_type": "code",
   "execution_count": null,
   "metadata": {
    "_uuid": "b88e0ddb4b2ca49907881f045951f49df1536bc5",
    "collapsed": true
   },
   "outputs": [],
   "source": [
    "train_df2['y'], lambda_prophet = stats.boxcox(train_df2['y'])\n",
    "train_df2.reset_index(inplace=True)"
   ]
  },
  {
   "cell_type": "code",
   "execution_count": null,
   "metadata": {
    "_uuid": "5c0197087aa5873426d3f0b906187fae147d24e9",
    "collapsed": true
   },
   "outputs": [],
   "source": [
    "%%time\n",
    "m2 = Prophet(yearly_seasonality=True, weekly_seasonality=True, daily_seasonality=True)\n",
    "m2.fit(train_df2[['ds','y']]);"
   ]
  },
  {
   "cell_type": "code",
   "execution_count": null,
   "metadata": {
    "_uuid": "c8f7ba24f9c2bf363be46ed3d5239c3d9fab0de8",
    "collapsed": true
   },
   "outputs": [],
   "source": [
    "future2 = m2.make_future_dataframe(periods=prediction_size)\n",
    "forecast2 = m2.predict(future2)"
   ]
  },
  {
   "cell_type": "code",
   "execution_count": null,
   "metadata": {
    "_uuid": "52355f1c2b773c85d090cb7912909581df7cac6f",
    "collapsed": true
   },
   "outputs": [],
   "source": [
    "for column in ['yhat', 'yhat_lower', 'yhat_upper']:\n",
    "    forecast2[column] = inverse_boxcox(forecast2[column], lambda_prophet)"
   ]
  },
  {
   "cell_type": "code",
   "execution_count": null,
   "metadata": {
    "_uuid": "ce7273480dfa9bb3f4d759228cc3161dddf003cc",
    "collapsed": true
   },
   "outputs": [],
   "source": [
    "cmp_df2 = make_comparison_dataframe(df, forecast2)\n",
    "cmp_df2.tail()"
   ]
  },
  {
   "cell_type": "code",
   "execution_count": null,
   "metadata": {
    "_uuid": "4f8e3027e8d16da0bf483fe12cd4e2263e3c175d",
    "collapsed": true
   },
   "outputs": [],
   "source": [
    "cmp_df2 = make_comparison_dataframe(df, forecast2)\n",
    "for err_name, err_value in calculate_forecast_errors(cmp_df2, prediction_size).items():\n",
    "    print('Including Holidays', err_name, err_value)\n",
    "# We Get Slight Improvement Over No Transformations !!!"
   ]
  },
  {
   "cell_type": "code",
   "execution_count": null,
   "metadata": {
    "_uuid": "21d25a90db1376294704b549288d55f730614105",
    "collapsed": true
   },
   "outputs": [],
   "source": [
    "show_forecast(cmp_df, prediction_size, 100, 'No transformations')\n",
    "show_forecast(cmp_df2, prediction_size, 100, 'With Box–Cox transformation')"
   ]
  },
  {
   "cell_type": "markdown",
   "metadata": {
    "_uuid": "e9859fec2ef7712ef333c9d1a5ba55afe6ea5a84",
    "heading_collapsed": true
   },
   "source": [
    "## Basic ARIMA"
   ]
  },
  {
   "cell_type": "markdown",
   "metadata": {
    "_uuid": "bf22d3f37c5875b7ab6025ee56b18b445e7deae3",
    "hidden": true
   },
   "source": [
    "**We are going to apply one of the most commonly used method for time-series forecasting, known as ARIMA, which stands for Autoregressive Integrated Moving Average.**\n",
    "\n",
    "**ARIMA models are denoted with the notation ARIMA(p, d, q). These three parameters account for seasonality, trend, and noise in data..**\n",
    "\n",
    "- AR: Auto-Regressive (p): AR terms are just lags of dependent variable. For example lets say p is 3, we will use x(t-1), x(t-2) and x(t-3) to predict x(t)\n",
    "- I: Integrated (d): These are the number of nonseasonal differences. For example, in our case we take the first order difference. So we pass that variable and put d=0\n",
    "- MA: Moving Averages (q): MA terms are lagged forecast errors in prediction equation."
   ]
  },
  {
   "cell_type": "code",
   "execution_count": null,
   "metadata": {
    "_uuid": "1bd14b751a3f2ee61692bfc3a4fffe5cc589a796",
    "collapsed": true,
    "hidden": true
   },
   "outputs": [],
   "source": [
    "import itertools\n",
    "p = d = q = range(0, 3)\n",
    "pdq = list(itertools.product(p, d, q))\n",
    "seasonal_pdq = [(x[0], x[1], x[2], 12) for x in list(itertools.product(p, d, q))]\n",
    "print('Examples of parameter combinations for Seasonal ARIMA...')\n",
    "print('SARIMAX: {} x {}'.format(pdq[1], seasonal_pdq[1]))\n",
    "print('SARIMAX: {} x {}'.format(pdq[1], seasonal_pdq[2]))\n",
    "print('SARIMAX: {} x {}'.format(pdq[2], seasonal_pdq[3]))\n",
    "print('SARIMAX: {} x {}'.format(pdq[2], seasonal_pdq[4]))"
   ]
  },
  {
   "cell_type": "code",
   "execution_count": null,
   "metadata": {
    "_uuid": "0763cd590093c12154474a842969a3aef24b67f4",
    "collapsed": true,
    "hidden": true
   },
   "outputs": [],
   "source": [
    "# figure for subplots\n",
    "plt.figure(figsize = (12, 8))\n",
    "from statsmodels.graphics.tsaplots import plot_acf, plot_pacf\n",
    "\n",
    "# acf and pacf for A\n",
    "plt.subplot(421); plot_acf(sales_a, lags = 50, ax = plt.gca(), color = c)\n",
    "plt.subplot(422); plot_pacf(sales_a, lags = 50, ax = plt.gca(), color = c)\n",
    "\n",
    "# acf and pacf for B\n",
    "plt.subplot(423); plot_acf(sales_b, lags = 50, ax = plt.gca(), color = c)\n",
    "plt.subplot(424); plot_pacf(sales_b, lags = 50, ax = plt.gca(), color = c)\n",
    "\n",
    "# acf and pacf for C\n",
    "plt.subplot(425); plot_acf(sales_c, lags = 50, ax = plt.gca(), color = c)\n",
    "plt.subplot(426); plot_pacf(sales_c, lags = 50, ax = plt.gca(), color = c)\n",
    "\n",
    "# acf and pacf for D\n",
    "plt.subplot(427); plot_acf(sales_d, lags = 50, ax = plt.gca(), color = c)\n",
    "plt.subplot(428); plot_pacf(sales_d, lags = 50, ax = plt.gca(), color = c)\n",
    "#these plots are showing the correlation of the series with itself, lagged by x time units correlation of the series with itself, lagged by x time units."
   ]
  },
  {
   "cell_type": "markdown",
   "metadata": {
    "_uuid": "301a9e1680c47a0c81b238438fe4814e64ebcc3d",
    "hidden": true
   },
   "source": [
    "**From the above we cn see that the lags till 50 are having weightage wrt the ACF Plots, but according to the PACF plots they valley out after the 10th lag...**"
   ]
  },
  {
   "cell_type": "code",
   "execution_count": null,
   "metadata": {
    "_uuid": "a1eba2dfba082a837ca21be69ff19ee0365d8395",
    "collapsed": true,
    "hidden": true,
    "scrolled": true
   },
   "outputs": [],
   "source": [
    "cnt = 0\n",
    "for param in pdq:\n",
    "    for param_seasonal in seasonal_pdq:\n",
    "        try:\n",
    "            mod = sm.tsa.statespace.SARIMAX(y,\n",
    "                                            order=param,\n",
    "                                            seasonal_order=param_seasonal,\n",
    "                                            enforce_stationarity=False,\n",
    "                                            enforce_invertibility=False)\n",
    "            results = mod.fit()\n",
    "            cnt += 1\n",
    "            if cnt % 50 :\n",
    "                print('Current Iter - {}, ARIMA{}x{} 12 - AIC:{}'.format(cnt, param, param_seasonal, results.aic))\n",
    "        except:\n",
    "            continue"
   ]
  },
  {
   "cell_type": "markdown",
   "metadata": {
    "_uuid": "cbe4cab3b81e18a49f712c580859dc51ea117630",
    "hidden": true
   },
   "source": [
    "The above output suggests that SARIMA(2, 0, 1)x(2, 2, 0, 12) yields the lowest AIC value of 17.435499462373613. Therefore we should consider this to be optimal option.\n",
    "- ARIMA(0, 0, 0)x(2, 2, 0, 12)12 - AIC:28.152584128715233\n",
    "- ARIMA(0, 0, 1)x(2, 2, 0, 12)12 - AIC:21.20352160942468\n",
    "- ARIMA(0, 0, 2)x(2, 2, 0, 12)12 - AIC:18.308712222027623\n",
    "- ARIMA(1, 0, 1)x(2, 2, 0, 12)12 - AIC:18.039431593093965\n",
    "- ARIMA(1, 0, 2)x(2, 2, 0, 12)12 - AIC:17.583895110587616\n",
    "- ARIMA(2, 0, 1)x(2, 2, 0, 12)12 - AIC:17.435499462373613\n",
    "- ARIMA(2, 0, 2)x(2, 2, 0, 12)12 - AIC:17.473412955915293"
   ]
  },
  {
   "cell_type": "code",
   "execution_count": null,
   "metadata": {
    "_uuid": "8de9a57c1aa583118e9f5ac2fed0f097982959d2",
    "collapsed": true,
    "hidden": true
   },
   "outputs": [],
   "source": [
    "mod = sm.tsa.statespace.SARIMAX(y,\n",
    "                                order=(2, 0, 1),\n",
    "                                seasonal_order=(2, 2, 0, 12),\n",
    "                                enforce_stationarity=False,\n",
    "                                enforce_invertibility=False)\n",
    "results = mod.fit()\n",
    "print(results.summary().tables[1])"
   ]
  },
  {
   "cell_type": "code",
   "execution_count": null,
   "metadata": {
    "_uuid": "547fb15dc5d02f51a2395aad94a5b86e7532d2d0",
    "collapsed": true,
    "hidden": true
   },
   "outputs": [],
   "source": [
    "## Validating Forecast\n",
    "pred = results.get_prediction(start=pd.to_datetime('2017-01-01'), dynamic=False)\n",
    "pred_ci = pred.conf_int()\n",
    "ax = y['2014':].plot(label='observed')\n",
    "pred.predicted_mean.plot(ax=ax, label='One-step ahead Forecast', alpha=.7, figsize=(14, 7))\n",
    "ax.fill_between(pred_ci.index,\n",
    "                pred_ci.iloc[:, 0],\n",
    "                pred_ci.iloc[:, 1], color='k', alpha=.2)\n",
    "ax.set_xlabel('Date')\n",
    "ax.set_ylabel('Sales')\n",
    "plt.legend()"
   ]
  },
  {
   "cell_type": "code",
   "execution_count": null,
   "metadata": {
    "_uuid": "85ab470d26327e3430b9e0aadc47da49f4dba0ca",
    "collapsed": true,
    "hidden": true
   },
   "outputs": [],
   "source": [
    "y_forecasted = pred.predicted_mean\n",
    "y_truth = y['2017-01-01':]\n",
    "mse = ((y_forecasted - y_truth) ** 2).mean()\n",
    "print('The Mean Squared Error of our forecasts is {}'.format(round(mse, 2)))\n",
    "#The MSE is a measure of the quality of an estimator — it is always non-negative, \n",
    "#and the smaller the MSE, the closer we are to finding the line of best fit."
   ]
  },
  {
   "cell_type": "code",
   "execution_count": null,
   "metadata": {
    "_uuid": "50646591db0f79a058ff93cfe3770e916a8365ff",
    "collapsed": true,
    "hidden": true
   },
   "outputs": [],
   "source": [
    "pred_uc = results.get_forecast(steps=100)\n",
    "pred_ci = pred_uc.conf_int()\n",
    "ax = y.plot(label='observed', figsize=(14, 7))\n",
    "pred_uc.predicted_mean.plot(ax=ax, label='Forecast')\n",
    "ax.fill_between(pred_ci.index,\n",
    "                pred_ci.iloc[:, 0],\n",
    "                pred_ci.iloc[:, 1], color='k', alpha=.25)\n",
    "ax.set_xlabel('Date')\n",
    "ax.set_ylabel('Sales')\n",
    "plt.legend()"
   ]
  },
  {
   "cell_type": "code",
   "execution_count": null,
   "metadata": {
    "ExecuteTime": {
     "end_time": "2018-07-31T13:49:19.687896Z",
     "start_time": "2018-07-31T13:49:19.508830Z"
    },
    "_uuid": "a2e31f2aee203ee46dde33cf41ef78fd3f32d1d8",
    "collapsed": true,
    "hidden": true
   },
   "outputs": [],
   "source": [
    "subs.head()"
   ]
  },
  {
   "cell_type": "code",
   "execution_count": null,
   "metadata": {
    "ExecuteTime": {
     "end_time": "2018-07-31T13:50:19.163037Z",
     "start_time": "2018-07-31T13:50:18.548071Z"
    },
    "_uuid": "e350d780fae8505e8941a10d5da460494d7f41b5",
    "collapsed": true,
    "hidden": true
   },
   "outputs": [],
   "source": [
    "out_df_lgb = pd.DataFrame({'id': subs.id.astype(np.int32), 'sales': sub_preds.astype(np.int32)})\n",
    "out_df_xgb = pd.DataFrame({'id': subs.id.astype(np.int32), 'sales': y_test.astype(np.int32)})\n",
    "out_df_combined = pd.DataFrame({'id': subs.id.astype(np.int32), 'sales': ((sub_preds + y_test + 4)/2.).astype(np.int32)})\n",
    "out_df_combined_25_75 = pd.DataFrame({'id': subs.id.astype(np.int32), 'sales': ((sub_preds *.25 + y_test *.75 + 4)).astype(np.int32)})\n",
    "\n",
    "out_df_lgb.to_csv('submission_lgbm.csv', index=False)\n",
    "out_df_xgb.to_csv('submission_xgb.csv', index=False)\n",
    "out_df_combined.to_csv('submission_combined.csv', index=False)\n",
    "out_df_combined_25_75.to_csv('submission_combined_25_75.csv', index=False)"
   ]
  },
  {
   "cell_type": "code",
   "execution_count": null,
   "metadata": {
    "ExecuteTime": {
     "end_time": "2018-07-31T13:50:36.003972Z",
     "start_time": "2018-07-31T13:50:35.782276Z"
    },
    "_uuid": "c833f599b3b5cd80028b85826a7556d608a06459",
    "collapsed": true,
    "hidden": true
   },
   "outputs": [],
   "source": [
    "out_df_combined.head(10)"
   ]
  },
  {
   "cell_type": "markdown",
   "metadata": {
    "_uuid": "2e02f3c6c6182570e4af057cba7fee601e54fbe9"
   },
   "source": [
    "## Keras Embeddings "
   ]
  },
  {
   "cell_type": "code",
   "execution_count": null,
   "metadata": {
    "_uuid": "2b8a645b4ccadd0a9b55868512bc02c8d93e6d59",
    "collapsed": true
   },
   "outputs": [],
   "source": [
    "from keras.models import Sequential\n",
    "from keras.layers import Dense, Activation, Reshape, merge, Embedding, Input, Concatenate\n",
    "from keras.models import Model as KerasModel\n",
    "import keras.backend as K"
   ]
  },
  {
   "cell_type": "code",
   "execution_count": null,
   "metadata": {
    "_uuid": "06d32e6761d98b1a0f53a09c38737277ee91a9d1",
    "collapsed": true
   },
   "outputs": [],
   "source": [
    "cat_cols = ['Day', 'Dayofweek', 'Month', 'Week', 'item', 'store', 'weekofyear','Year']\n",
    "for cols in cat_cols:\n",
    "    df_raw[cols] = df_raw[cols].astype('category')\n",
    "    df_test[cols] = df_test[cols].astype('category')"
   ]
  },
  {
   "cell_type": "code",
   "execution_count": null,
   "metadata": {
    "_uuid": "bb00828f9243543511aa2c5d643366a076388fa1",
    "collapsed": true
   },
   "outputs": [],
   "source": [
    "df_raw_cats = df_raw[cat_cols].copy()\n",
    "df_test_cats = df_test[cat_cols].copy()"
   ]
  },
  {
   "cell_type": "code",
   "execution_count": null,
   "metadata": {
    "_uuid": "4734ccbb10b976c7195d7a5a670040bdbb3e4ed0"
   },
   "outputs": [],
   "source": [
    "cat_cols"
   ]
  },
  {
   "cell_type": "code",
   "execution_count": null,
   "metadata": {
    "_uuid": "4936be14b57d39900fbdefffafaee71a6cfbb87c"
   },
   "outputs": [],
   "source": [
    "df_raw_cats.head()"
   ]
  },
  {
   "cell_type": "code",
   "execution_count": null,
   "metadata": {
    "_uuid": "e7f8675e377f397621395584b7eca1c50976a218",
    "collapsed": true
   },
   "outputs": [],
   "source": [
    "def split_features(X):\n",
    "    \n",
    "    X_list = []\n",
    "    \n",
    "    day = X[..., [0]]\n",
    "    X_list.append(day)\n",
    "\n",
    "    day_of_week = X[..., [1]]\n",
    "    X_list.append(day_of_week)\n",
    "\n",
    "    month = X[..., [2]]\n",
    "    X_list.append(month)\n",
    "\n",
    "    week_of_year = X[..., [6]]\n",
    "    X_list.append(week_of_year)\n",
    "    \n",
    "    item = X[..., [4]]\n",
    "    X_list.append(item)\n",
    "    \n",
    "    store = X[..., [5]]\n",
    "    X_list.append(store)\n",
    "    \n",
    "    year = X[..., [7]]\n",
    "    X_list.append(year)\n",
    "\n",
    "    return X_list"
   ]
  },
  {
   "cell_type": "code",
   "execution_count": null,
   "metadata": {
    "_uuid": "3803a7cbade7261eec67f7853e32519e069b39e0",
    "collapsed": true
   },
   "outputs": [],
   "source": [
    "def custom_smape(x, x_): # From the Public Kernel https://www.kaggle.com/rezas26/simple-keras-starter        \n",
    "    return K.mean(2*K.abs(x-x_)/(K.abs(x)+K.abs(x_)))\n",
    "    \n",
    "class NN_with_EntityEmbedding():\n",
    "\n",
    "    def __init__(self, X_train, y_train):\n",
    "        \n",
    "        super().__init__()\n",
    "        \n",
    "        self.epochs = 3\n",
    "        self.__build_keras_model()\n",
    "        self.fit(X_train, y_train)\n",
    "    \n",
    "    def preprocessing(self, X):\n",
    "        \n",
    "        X_list = split_features(X)\n",
    "        return X_list\n",
    "\n",
    "    def __build_keras_model(self):\n",
    "        \n",
    "        model_day = Input(shape=(1,))\n",
    "        output_day = Embedding(31, 16, name='day_embedding')(model_day)\n",
    "        output_day = Reshape(target_shape=(16,))(output_day)\n",
    "\n",
    "        model_dow = Input(shape=(1,))\n",
    "        output_dow = Embedding(7, 5, name='dow_embedding')(model_dow)\n",
    "        output_dow = Reshape(target_shape=(5,))(output_dow)\n",
    "        \n",
    "        input_month = Input(shape=(1,))\n",
    "        output_month = Embedding(12, 6, name='month_embedding')(input_month)\n",
    "        output_month = Reshape(target_shape=(6,))(output_month)\n",
    "        \n",
    "        model_woy = Input(shape=(1,))\n",
    "        output_woy = Embedding(52, 26, name='week_embedding')(model_woy)\n",
    "        output_woy = Reshape(target_shape=(26,))(output_woy)\n",
    "        \n",
    "        model_item = Input(shape=(1,))\n",
    "        output_item = Embedding(50, 26, name='item_embedding')(model_item)\n",
    "        output_item = Reshape(target_shape=(26,))(output_item)\n",
    "        \n",
    "        model_store = Input(shape=(1,))\n",
    "        output_store = Embedding(10, 6, name='store_embedding')(model_store)\n",
    "        output_store = Reshape(target_shape=(6,))(output_store)\n",
    "        \n",
    "        model_year = Input(shape=(1,))\n",
    "        output_year = Embedding(5, 3, name='year_embedding')(model_year)\n",
    "        output_year = Reshape(target_shape=(3,))(output_year)\n",
    "\n",
    "        input_model = [model_day, model_dow, input_month,\n",
    "                       model_woy, model_item, model_store, model_year]\n",
    "\n",
    "        output_embeddings = [output_day, output_dow, output_month,\n",
    "                             output_woy, output_item, output_store, output_year]\n",
    "\n",
    "        output_model = Concatenate()(output_embeddings)\n",
    "        output_model = Dense(128, kernel_initializer=\"glorot_uniform\")(output_model)\n",
    "        output_model = Activation('relu')(output_model)\n",
    "        output_model = Dense(32, kernel_initializer=\"glorot_uniform\")(output_model)\n",
    "        output_model = Activation('relu')(output_model)\n",
    "        output_model = Dense(1)(output_model)\n",
    "\n",
    "        self.model = KerasModel(inputs=input_model, outputs=output_model)\n",
    "        self.model.compile(loss= custom_smape, optimizer='sgd')\n",
    "\n",
    "\n",
    "    def fit(self, X_train, y_train):\n",
    "        self.model.fit(self.preprocessing(X_train), y_train, epochs=self.epochs, batch_size=64)\n",
    "\n",
    "    def guess(self, features):\n",
    "        features = self.preprocessing(features)\n",
    "        result = self.model.predict(features).flatten()\n",
    "        return result"
   ]
  },
  {
   "cell_type": "code",
   "execution_count": null,
   "metadata": {
    "_uuid": "d2410f3f9f7c9752a5d6c70ebe1171b72d094d45"
   },
   "outputs": [],
   "source": [
    "nn = NN_with_EntityEmbedding(df_raw_cats.values, original_target)"
   ]
  },
  {
   "cell_type": "code",
   "execution_count": null,
   "metadata": {
    "_uuid": "c6a2cf1051f84bcefdd8921ca34239fd7cc3613a"
   },
   "outputs": [],
   "source": [
    "nn.model.summary()"
   ]
  },
  {
   "cell_type": "code",
   "execution_count": null,
   "metadata": {
    "_uuid": "7ac86d27574cb9bbb0886b143756517e3fdad8f0"
   },
   "outputs": [],
   "source": [
    "emd_layers = []\n",
    "for idx,layer in enumerate(nn.model.layers):\n",
    "    if 'embedding' in str(layer):\n",
    "        emd_layers.append(idx)\n",
    "        print(idx,layer)"
   ]
  },
  {
   "cell_type": "code",
   "execution_count": null,
   "metadata": {
    "_uuid": "ad16b686a72935f6d18c6f2212dcd1feb517f5a3"
   },
   "outputs": [],
   "source": [
    "emd_layers"
   ]
  },
  {
   "cell_type": "code",
   "execution_count": null,
   "metadata": {
    "_uuid": "5ca3eadc7d09cebe88aa8aa1864cf77cf4cf87ce",
    "collapsed": true
   },
   "outputs": [],
   "source": [
    "embd_weights = []\n",
    "for i in emd_layers:\n",
    "    embd_weights.append(nn.model.layers[i].get_weights()[0])\n",
    "    #print(nn.model.layers[i].get_weights()[0])\n",
    "    #print('#'*60, i)"
   ]
  },
  {
   "cell_type": "code",
   "execution_count": null,
   "metadata": {
    "_uuid": "a9852bcc08dfe6571d665daca37aee68b6a1db4a"
   },
   "outputs": [],
   "source": [
    "nn_preds = nn.guess(df_test_cats.values)\n",
    "min(nn_preds), max(nn_preds)"
   ]
  },
  {
   "cell_type": "code",
   "execution_count": null,
   "metadata": {
    "_kg_hide-output": false,
    "_uuid": "8538517eb0b87ede2ec99fc48537cb592162bb2d",
    "collapsed": true
   },
   "outputs": [],
   "source": [
    "out_df_nn = pd.DataFrame({'id': subs.id.astype(np.int32), 'sales': nn_preds.astype(np.int32)})\n",
    "out_df_nn.to_csv('submission_nn.csv', index=False)\n",
    "\n",
    "out_df_combined = pd.DataFrame({'id': subs.id.astype(np.int32), 'sales': ((sub_preds + nn_preds + 4)/2.).astype(np.int32)})\n",
    "out_df_combined.to_csv('submission_combined_nn_lgbm.csv', index=False)"
   ]
  },
  {
   "cell_type": "markdown",
   "metadata": {
    "_uuid": "173b01a4d5991078b6fb3acf95db4483fd369f76",
    "heading_collapsed": true
   },
   "source": [
    "## Thanks For Making It To The End !!!"
   ]
  }
 ],
 "metadata": {
  "kernelspec": {
   "display_name": "Python 3",
   "language": "python",
   "name": "python3"
  },
  "language_info": {
   "codemirror_mode": {
    "name": "ipython",
    "version": 3
   },
   "file_extension": ".py",
   "mimetype": "text/x-python",
   "name": "python",
   "nbconvert_exporter": "python",
   "pygments_lexer": "ipython3",
   "version": "3.6.10"
  },
  "nbTranslate": {
   "displayLangs": [
    "*"
   ],
   "hotkey": "alt-t",
   "langInMainMenu": true,
   "sourceLang": "en",
   "targetLang": "fr",
   "useGoogleTranslate": true
  }
 },
 "nbformat": 4,
 "nbformat_minor": 1
}
