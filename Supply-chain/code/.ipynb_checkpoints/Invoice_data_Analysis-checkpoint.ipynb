{
 "cells": [
  {
   "cell_type": "code",
   "execution_count": 1,
   "metadata": {
    "colab": {
     "base_uri": "https://localhost:8080/"
    },
    "id": "CRzWHQTLw1W4",
    "outputId": "e3189259-18af-49bd-9cf5-c2083fcd9fcc"
   },
   "outputs": [],
   "source": [
    "#from google.colab import drive\n",
    "#drive.mount('/content/drive/')"
   ]
  },
  {
   "cell_type": "code",
   "execution_count": 49,
   "metadata": {
    "colab": {
     "base_uri": "https://localhost:8080/",
     "height": 17
    },
    "id": "KA4sHrdiw1Tn",
    "outputId": "c771fadd-151d-4023-acd2-0cbd2061a4f0"
   },
   "outputs": [
    {
     "data": {
      "text/html": [
       "        <script type=\"text/javascript\">\n",
       "        window.PlotlyConfig = {MathJaxConfig: 'local'};\n",
       "        if (window.MathJax) {MathJax.Hub.Config({SVG: {font: \"STIX-Web\"}});}\n",
       "        if (typeof require !== 'undefined') {\n",
       "        require.undef(\"plotly\");\n",
       "        requirejs.config({\n",
       "            paths: {\n",
       "                'plotly': ['https://cdn.plot.ly/plotly-latest.min']\n",
       "            }\n",
       "        });\n",
       "        require(['plotly'], function(Plotly) {\n",
       "            window._Plotly = Plotly;\n",
       "        });\n",
       "        }\n",
       "        </script>\n",
       "        "
      ]
     },
     "metadata": {
      "tags": []
     },
     "output_type": "display_data"
    }
   ],
   "source": [
    "import pandas as pd\n",
    "import numpy as np\n",
    "from decimal import Decimal\n",
    "import matplotlib.pyplot as plt\n",
    "%matplotlib inline\n",
    "import seaborn as sn\n",
    "import os\n",
    "import plotly.graph_objs as go\n",
    "import plotly.offline as py\n",
    "py.init_notebook_mode(connected=True)\n",
    "pd.options.mode.chained_assignment = None\n",
    "pd.options.display.max_columns = 9999\n",
    "pd.options.display.float_format = '{:20,.2f}'.format"
   ]
  },
  {
   "cell_type": "code",
   "execution_count": 50,
   "metadata": {
    "id": "jIv0Hlelw1RE"
   },
   "outputs": [],
   "source": [
    "DataSet = pd.read_csv('/content/drive/MyDrive/data/supply_chain_ship_price/invoice.csv').fillna(0)"
   ]
  },
  {
   "cell_type": "code",
   "execution_count": 6,
   "metadata": {
    "colab": {
     "base_uri": "https://localhost:8080/"
    },
    "id": "b8azrr2Dw1IW",
    "outputId": "169ec2dd-7fc8-4858-8d1b-743607b615d0"
   },
   "outputs": [
    {
     "name": "stdout",
     "output_type": "stream",
     "text": [
      "Total Number of Data Count : 49\n"
     ]
    }
   ],
   "source": [
    "TotalRowCount = len(DataSet)\n",
    "print(\"Total Number of Data Count :\", TotalRowCount)"
   ]
  },
  {
   "cell_type": "markdown",
   "metadata": {
    "id": "rwxAlLP641Ht"
   },
   "source": [
    "### ***Invoice Contents Simplified***"
   ]
  },
  {
   "cell_type": "code",
   "execution_count": 7,
   "metadata": {
    "colab": {
     "base_uri": "https://localhost:8080/"
    },
    "id": "7h0ilJUgw1CY",
    "outputId": "e19b3de8-7a67-497e-a2f0-5b9a16d3207d"
   },
   "outputs": [
    {
     "data": {
      "text/plain": [
       "InvoiceID                       int64\n",
       "ProductID                      object\n",
       "City                           object\n",
       "Fulfill Via                    object\n",
       "Shipment Mode                  object\n",
       "PO Sent to Vendor Date         object\n",
       "Scheduled Delivery Date        object\n",
       "Delivered to Client Date       object\n",
       "Delivery Recorded Date         object\n",
       "Vendor                         object\n",
       "Item Description               object\n",
       "Brand                          object\n",
       "Unit of Measure (Per Pack)      int64\n",
       "Line Item Quantity              int64\n",
       "Line Item Value               float64\n",
       "Pack Price                    float64\n",
       "Unit Price                    float64\n",
       "Manufacturing Site             object\n",
       "Payment Status                 object\n",
       "Weight (Kilograms)            float64\n",
       "Freight Cost (Rupees)         float64\n",
       "dtype: object"
      ]
     },
     "execution_count": 7,
     "metadata": {
      "tags": []
     },
     "output_type": "execute_result"
    }
   ],
   "source": [
    "DataSet.dtypes"
   ]
  },
  {
   "cell_type": "code",
   "execution_count": 8,
   "metadata": {
    "colab": {
     "base_uri": "https://localhost:8080/",
     "height": 770
    },
    "id": "eQ79iXDMxuMs",
    "outputId": "fd47e807-7cfe-40af-9d6a-d7cdc4494453"
   },
   "outputs": [
    {
     "data": {
      "text/html": [
       "<div>\n",
       "<style scoped>\n",
       "    .dataframe tbody tr th:only-of-type {\n",
       "        vertical-align: middle;\n",
       "    }\n",
       "\n",
       "    .dataframe tbody tr th {\n",
       "        vertical-align: top;\n",
       "    }\n",
       "\n",
       "    .dataframe thead th {\n",
       "        text-align: right;\n",
       "    }\n",
       "</style>\n",
       "<table border=\"1\" class=\"dataframe\">\n",
       "  <thead>\n",
       "    <tr style=\"text-align: right;\">\n",
       "      <th></th>\n",
       "      <th>InvoiceID</th>\n",
       "      <th>ProductID</th>\n",
       "      <th>City</th>\n",
       "      <th>Fulfill Via</th>\n",
       "      <th>Shipment Mode</th>\n",
       "      <th>PO Sent to Vendor Date</th>\n",
       "      <th>Scheduled Delivery Date</th>\n",
       "      <th>Delivered to Client Date</th>\n",
       "      <th>Delivery Recorded Date</th>\n",
       "      <th>Vendor</th>\n",
       "      <th>Item Description</th>\n",
       "      <th>Brand</th>\n",
       "      <th>Unit of Measure (Per Pack)</th>\n",
       "      <th>Line Item Quantity</th>\n",
       "      <th>Line Item Value</th>\n",
       "      <th>Pack Price</th>\n",
       "      <th>Unit Price</th>\n",
       "      <th>Manufacturing Site</th>\n",
       "      <th>Payment Status</th>\n",
       "      <th>Weight (Kilograms)</th>\n",
       "      <th>Freight Cost (Rupees)</th>\n",
       "    </tr>\n",
       "  </thead>\n",
       "  <tbody>\n",
       "    <tr>\n",
       "      <th>0</th>\n",
       "      <td>1</td>\n",
       "      <td>100-CI-T01</td>\n",
       "      <td>Mumbai</td>\n",
       "      <td>Direct Drop</td>\n",
       "      <td>Air</td>\n",
       "      <td>Date Not Captured</td>\n",
       "      <td>2-Jun-06</td>\n",
       "      <td>2-Jun-06</td>\n",
       "      <td>2-Jun-06</td>\n",
       "      <td>R Fine  LTD</td>\n",
       "      <td>brakes</td>\n",
       "      <td>Reveal</td>\n",
       "      <td>30</td>\n",
       "      <td>19</td>\n",
       "      <td>551.00</td>\n",
       "      <td>29.00</td>\n",
       "      <td>0.97</td>\n",
       "      <td>R Fine  LTD</td>\n",
       "      <td>processing</td>\n",
       "      <td>13.00</td>\n",
       "      <td>780.34</td>\n",
       "    </tr>\n",
       "    <tr>\n",
       "      <th>1</th>\n",
       "      <td>3</td>\n",
       "      <td>108-VN-T01</td>\n",
       "      <td>Delhi</td>\n",
       "      <td>Direct Drop</td>\n",
       "      <td>Air</td>\n",
       "      <td>Date Not Captured</td>\n",
       "      <td>14-Nov-06</td>\n",
       "      <td>14-Nov-06</td>\n",
       "      <td>14-Nov-06</td>\n",
       "      <td>Aurobindo Unit III, India</td>\n",
       "      <td>engine</td>\n",
       "      <td>Generic</td>\n",
       "      <td>240</td>\n",
       "      <td>1000</td>\n",
       "      <td>6,200.00</td>\n",
       "      <td>6.20</td>\n",
       "      <td>0.03</td>\n",
       "      <td>Aurobindo Unit III, India</td>\n",
       "      <td>done</td>\n",
       "      <td>358.00</td>\n",
       "      <td>4,521.50</td>\n",
       "    </tr>\n",
       "    <tr>\n",
       "      <th>2</th>\n",
       "      <td>4</td>\n",
       "      <td>100-CI-T01</td>\n",
       "      <td>Kolkata</td>\n",
       "      <td>Direct Drop</td>\n",
       "      <td>Air</td>\n",
       "      <td>Date Not Captured</td>\n",
       "      <td>27-Aug-06</td>\n",
       "      <td>27-Aug-06</td>\n",
       "      <td>27-Aug-06</td>\n",
       "      <td>ABBVIE GmbH &amp; Co.KG Wiesbaden</td>\n",
       "      <td>lights</td>\n",
       "      <td>Determine</td>\n",
       "      <td>100</td>\n",
       "      <td>500</td>\n",
       "      <td>40,000.00</td>\n",
       "      <td>80.00</td>\n",
       "      <td>0.80</td>\n",
       "      <td>ABBVIE GmbH &amp; Co.KG Wiesbaden</td>\n",
       "      <td>processing</td>\n",
       "      <td>171.00</td>\n",
       "      <td>1,653.78</td>\n",
       "    </tr>\n",
       "    <tr>\n",
       "      <th>3</th>\n",
       "      <td>15</td>\n",
       "      <td>108-VN-T01</td>\n",
       "      <td>Bangalore</td>\n",
       "      <td>Direct Drop</td>\n",
       "      <td>Air</td>\n",
       "      <td>Date Not Captured</td>\n",
       "      <td>1-Sep-06</td>\n",
       "      <td>1-Sep-06</td>\n",
       "      <td>1-Sep-06</td>\n",
       "      <td>R Fine  LTD</td>\n",
       "      <td>tyres</td>\n",
       "      <td>Generic</td>\n",
       "      <td>60</td>\n",
       "      <td>31920</td>\n",
       "      <td>127,360.80</td>\n",
       "      <td>3.99</td>\n",
       "      <td>0.07</td>\n",
       "      <td>R Fine  LTD</td>\n",
       "      <td>processing</td>\n",
       "      <td>1,855.00</td>\n",
       "      <td>16,007.06</td>\n",
       "    </tr>\n",
       "    <tr>\n",
       "      <th>4</th>\n",
       "      <td>16</td>\n",
       "      <td>108-VN-T01</td>\n",
       "      <td>Mumbai</td>\n",
       "      <td>Direct Drop</td>\n",
       "      <td>Air</td>\n",
       "      <td>Date Not Captured</td>\n",
       "      <td>11-Aug-06</td>\n",
       "      <td>11-Aug-06</td>\n",
       "      <td>11-Aug-06</td>\n",
       "      <td>Aurobindo Unit III, India</td>\n",
       "      <td>brakes</td>\n",
       "      <td>Generic</td>\n",
       "      <td>60</td>\n",
       "      <td>38000</td>\n",
       "      <td>121,600.00</td>\n",
       "      <td>3.20</td>\n",
       "      <td>0.05</td>\n",
       "      <td>Aurobindo Unit III, India</td>\n",
       "      <td>processing</td>\n",
       "      <td>7,590.00</td>\n",
       "      <td>45,450.08</td>\n",
       "    </tr>\n",
       "    <tr>\n",
       "      <th>5</th>\n",
       "      <td>23</td>\n",
       "      <td>112-NG-T01</td>\n",
       "      <td>Delhi</td>\n",
       "      <td>Direct Drop</td>\n",
       "      <td>Truck</td>\n",
       "      <td>Date Not Captured</td>\n",
       "      <td>28-Sep-06</td>\n",
       "      <td>28-Sep-06</td>\n",
       "      <td>28-Sep-06</td>\n",
       "      <td>ABBVIE GmbH &amp; Co.KG Wiesbaden</td>\n",
       "      <td>engine</td>\n",
       "      <td>Generic</td>\n",
       "      <td>240</td>\n",
       "      <td>416</td>\n",
       "      <td>2,225.60</td>\n",
       "      <td>5.35</td>\n",
       "      <td>0.02</td>\n",
       "      <td>ABBVIE GmbH &amp; Co.KG Wiesbaden</td>\n",
       "      <td>done</td>\n",
       "      <td>504.00</td>\n",
       "      <td>5,920.42</td>\n",
       "    </tr>\n",
       "    <tr>\n",
       "      <th>6</th>\n",
       "      <td>44</td>\n",
       "      <td>110-ZM-T01</td>\n",
       "      <td>Kolkata</td>\n",
       "      <td>Direct Drop</td>\n",
       "      <td>Air</td>\n",
       "      <td>Date Not Captured</td>\n",
       "      <td>8-Jan-07</td>\n",
       "      <td>8-Jan-07</td>\n",
       "      <td>8-Jan-07</td>\n",
       "      <td>R Fine  LTD</td>\n",
       "      <td>lights</td>\n",
       "      <td>Stocrin/Sustiva</td>\n",
       "      <td>90</td>\n",
       "      <td>135</td>\n",
       "      <td>4,374.00</td>\n",
       "      <td>32.40</td>\n",
       "      <td>0.36</td>\n",
       "      <td>R Fine  LTD</td>\n",
       "      <td>done</td>\n",
       "      <td>328.00</td>\n",
       "      <td>28,672.81</td>\n",
       "    </tr>\n",
       "    <tr>\n",
       "      <th>7</th>\n",
       "      <td>45</td>\n",
       "      <td>109-TZ-T01</td>\n",
       "      <td>Bangalore</td>\n",
       "      <td>Direct Drop</td>\n",
       "      <td>Air</td>\n",
       "      <td>Date Not Captured</td>\n",
       "      <td>24-Nov-06</td>\n",
       "      <td>24-Nov-06</td>\n",
       "      <td>24-Nov-06</td>\n",
       "      <td>Aurobindo Unit III, India</td>\n",
       "      <td>tyres</td>\n",
       "      <td>Generic</td>\n",
       "      <td>60</td>\n",
       "      <td>16667</td>\n",
       "      <td>60,834.55</td>\n",
       "      <td>3.65</td>\n",
       "      <td>0.06</td>\n",
       "      <td>Aurobindo Unit III, India</td>\n",
       "      <td>processing</td>\n",
       "      <td>1,478.00</td>\n",
       "      <td>33,325.36</td>\n",
       "    </tr>\n",
       "    <tr>\n",
       "      <th>8</th>\n",
       "      <td>46</td>\n",
       "      <td>112-NG-T01</td>\n",
       "      <td>Mumbai</td>\n",
       "      <td>Direct Drop</td>\n",
       "      <td>Air</td>\n",
       "      <td>Date Not Captured</td>\n",
       "      <td>7-Dec-06</td>\n",
       "      <td>7-Dec-06</td>\n",
       "      <td>7-Dec-06</td>\n",
       "      <td>ABBVIE GmbH &amp; Co.KG Wiesbaden</td>\n",
       "      <td>brakes</td>\n",
       "      <td>Generic</td>\n",
       "      <td>60</td>\n",
       "      <td>273</td>\n",
       "      <td>532.35</td>\n",
       "      <td>1.95</td>\n",
       "      <td>0.03</td>\n",
       "      <td>ABBVIE GmbH &amp; Co.KG Wiesbaden</td>\n",
       "      <td>done</td>\n",
       "      <td>2,439.21</td>\n",
       "      <td>37,977.92</td>\n",
       "    </tr>\n",
       "    <tr>\n",
       "      <th>9</th>\n",
       "      <td>47</td>\n",
       "      <td>110-ZM-T01</td>\n",
       "      <td>Delhi</td>\n",
       "      <td>Direct Drop</td>\n",
       "      <td>Ship</td>\n",
       "      <td>11/13/06</td>\n",
       "      <td>30-Jan-07</td>\n",
       "      <td>30-Jan-07</td>\n",
       "      <td>30-Jan-07</td>\n",
       "      <td>R Fine  LTD</td>\n",
       "      <td>engine</td>\n",
       "      <td>Aluvia</td>\n",
       "      <td>120</td>\n",
       "      <td>2800</td>\n",
       "      <td>115,080.00</td>\n",
       "      <td>41.10</td>\n",
       "      <td>0.34</td>\n",
       "      <td>R Fine  LTD</td>\n",
       "      <td>processing</td>\n",
       "      <td>2,639.68</td>\n",
       "      <td>42,630.47</td>\n",
       "    </tr>\n",
       "  </tbody>\n",
       "</table>\n",
       "</div>"
      ],
      "text/plain": [
       "   InvoiceID   ProductID       City  Fulfill Via Shipment Mode  \\\n",
       "0          1  100-CI-T01     Mumbai  Direct Drop           Air   \n",
       "1          3  108-VN-T01      Delhi  Direct Drop           Air   \n",
       "2          4  100-CI-T01    Kolkata  Direct Drop           Air   \n",
       "3         15  108-VN-T01  Bangalore  Direct Drop           Air   \n",
       "4         16  108-VN-T01     Mumbai  Direct Drop           Air   \n",
       "5         23  112-NG-T01      Delhi  Direct Drop         Truck   \n",
       "6         44  110-ZM-T01    Kolkata  Direct Drop           Air   \n",
       "7         45  109-TZ-T01  Bangalore  Direct Drop           Air   \n",
       "8         46  112-NG-T01     Mumbai  Direct Drop           Air   \n",
       "9         47  110-ZM-T01      Delhi  Direct Drop          Ship   \n",
       "\n",
       "  PO Sent to Vendor Date Scheduled Delivery Date Delivered to Client Date  \\\n",
       "0      Date Not Captured                2-Jun-06                 2-Jun-06   \n",
       "1      Date Not Captured               14-Nov-06                14-Nov-06   \n",
       "2      Date Not Captured               27-Aug-06                27-Aug-06   \n",
       "3      Date Not Captured                1-Sep-06                 1-Sep-06   \n",
       "4      Date Not Captured               11-Aug-06                11-Aug-06   \n",
       "5      Date Not Captured               28-Sep-06                28-Sep-06   \n",
       "6      Date Not Captured                8-Jan-07                 8-Jan-07   \n",
       "7      Date Not Captured               24-Nov-06                24-Nov-06   \n",
       "8      Date Not Captured                7-Dec-06                 7-Dec-06   \n",
       "9               11/13/06               30-Jan-07                30-Jan-07   \n",
       "\n",
       "  Delivery Recorded Date                         Vendor Item Description  \\\n",
       "0               2-Jun-06                    R Fine  LTD           brakes   \n",
       "1              14-Nov-06      Aurobindo Unit III, India          engine    \n",
       "2              27-Aug-06  ABBVIE GmbH & Co.KG Wiesbaden           lights   \n",
       "3               1-Sep-06                    R Fine  LTD            tyres   \n",
       "4              11-Aug-06      Aurobindo Unit III, India           brakes   \n",
       "5              28-Sep-06  ABBVIE GmbH & Co.KG Wiesbaden          engine    \n",
       "6               8-Jan-07                    R Fine  LTD           lights   \n",
       "7              24-Nov-06      Aurobindo Unit III, India            tyres   \n",
       "8               7-Dec-06  ABBVIE GmbH & Co.KG Wiesbaden           brakes   \n",
       "9              30-Jan-07                    R Fine  LTD          engine    \n",
       "\n",
       "             Brand  Unit of Measure (Per Pack)  Line Item Quantity  \\\n",
       "0           Reveal                          30                  19   \n",
       "1          Generic                         240                1000   \n",
       "2        Determine                         100                 500   \n",
       "3          Generic                          60               31920   \n",
       "4          Generic                          60               38000   \n",
       "5          Generic                         240                 416   \n",
       "6  Stocrin/Sustiva                          90                 135   \n",
       "7          Generic                          60               16667   \n",
       "8          Generic                          60                 273   \n",
       "9           Aluvia                         120                2800   \n",
       "\n",
       "       Line Item Value           Pack Price           Unit Price  \\\n",
       "0               551.00                29.00                 0.97   \n",
       "1             6,200.00                 6.20                 0.03   \n",
       "2            40,000.00                80.00                 0.80   \n",
       "3           127,360.80                 3.99                 0.07   \n",
       "4           121,600.00                 3.20                 0.05   \n",
       "5             2,225.60                 5.35                 0.02   \n",
       "6             4,374.00                32.40                 0.36   \n",
       "7            60,834.55                 3.65                 0.06   \n",
       "8               532.35                 1.95                 0.03   \n",
       "9           115,080.00                41.10                 0.34   \n",
       "\n",
       "              Manufacturing Site Payment Status   Weight (Kilograms)  \\\n",
       "0                    R Fine  LTD    processing                 13.00   \n",
       "1      Aurobindo Unit III, India          done                358.00   \n",
       "2  ABBVIE GmbH & Co.KG Wiesbaden    processing                171.00   \n",
       "3                    R Fine  LTD    processing              1,855.00   \n",
       "4      Aurobindo Unit III, India    processing              7,590.00   \n",
       "5  ABBVIE GmbH & Co.KG Wiesbaden          done                504.00   \n",
       "6                    R Fine  LTD          done                328.00   \n",
       "7      Aurobindo Unit III, India    processing              1,478.00   \n",
       "8  ABBVIE GmbH & Co.KG Wiesbaden          done              2,439.21   \n",
       "9                    R Fine  LTD    processing              2,639.68   \n",
       "\n",
       "   Freight Cost (Rupees)  \n",
       "0                 780.34  \n",
       "1               4,521.50  \n",
       "2               1,653.78  \n",
       "3              16,007.06  \n",
       "4              45,450.08  \n",
       "5               5,920.42  \n",
       "6              28,672.81  \n",
       "7              33,325.36  \n",
       "8              37,977.92  \n",
       "9              42,630.47  "
      ]
     },
     "execution_count": 8,
     "metadata": {
      "tags": []
     },
     "output_type": "execute_result"
    }
   ],
   "source": [
    "DataSet.head(10)"
   ]
  },
  {
   "cell_type": "code",
   "execution_count": 9,
   "metadata": {
    "colab": {
     "base_uri": "https://localhost:8080/",
     "height": 770
    },
    "id": "c9jIT5YgxuPa",
    "outputId": "83f97b0c-2ccf-43b2-b3de-33ed8112f7d3"
   },
   "outputs": [
    {
     "data": {
      "text/html": [
       "<div>\n",
       "<style scoped>\n",
       "    .dataframe tbody tr th:only-of-type {\n",
       "        vertical-align: middle;\n",
       "    }\n",
       "\n",
       "    .dataframe tbody tr th {\n",
       "        vertical-align: top;\n",
       "    }\n",
       "\n",
       "    .dataframe thead th {\n",
       "        text-align: right;\n",
       "    }\n",
       "</style>\n",
       "<table border=\"1\" class=\"dataframe\">\n",
       "  <thead>\n",
       "    <tr style=\"text-align: right;\">\n",
       "      <th></th>\n",
       "      <th>InvoiceID</th>\n",
       "      <th>ProductID</th>\n",
       "      <th>City</th>\n",
       "      <th>Fulfill Via</th>\n",
       "      <th>Shipment Mode</th>\n",
       "      <th>PO Sent to Vendor Date</th>\n",
       "      <th>Scheduled Delivery Date</th>\n",
       "      <th>Delivered to Client Date</th>\n",
       "      <th>Delivery Recorded Date</th>\n",
       "      <th>Vendor</th>\n",
       "      <th>Item Description</th>\n",
       "      <th>Brand</th>\n",
       "      <th>Unit of Measure (Per Pack)</th>\n",
       "      <th>Line Item Quantity</th>\n",
       "      <th>Line Item Value</th>\n",
       "      <th>Pack Price</th>\n",
       "      <th>Unit Price</th>\n",
       "      <th>Manufacturing Site</th>\n",
       "      <th>Payment Status</th>\n",
       "      <th>Weight (Kilograms)</th>\n",
       "      <th>Freight Cost (Rupees)</th>\n",
       "    </tr>\n",
       "  </thead>\n",
       "  <tbody>\n",
       "    <tr>\n",
       "      <th>39</th>\n",
       "      <td>392</td>\n",
       "      <td>104-CI-T01</td>\n",
       "      <td>Bangalore</td>\n",
       "      <td>Direct Drop</td>\n",
       "      <td>Air</td>\n",
       "      <td>3/3/08</td>\n",
       "      <td>19-Mar-09</td>\n",
       "      <td>19-Mar-09</td>\n",
       "      <td>19-Mar-09</td>\n",
       "      <td>Aurobindo Unit III, India</td>\n",
       "      <td>tyres</td>\n",
       "      <td>Bioline</td>\n",
       "      <td>25</td>\n",
       "      <td>659</td>\n",
       "      <td>13,180.00</td>\n",
       "      <td>20.00</td>\n",
       "      <td>0.80</td>\n",
       "      <td>Aurobindo Unit III, India</td>\n",
       "      <td>processing</td>\n",
       "      <td>8,653.61</td>\n",
       "      <td>182,207.12</td>\n",
       "    </tr>\n",
       "    <tr>\n",
       "      <th>40</th>\n",
       "      <td>398</td>\n",
       "      <td>102-GY-T01</td>\n",
       "      <td>Mumbai</td>\n",
       "      <td>Direct Drop</td>\n",
       "      <td>Air</td>\n",
       "      <td>2/28/08</td>\n",
       "      <td>9-Apr-08</td>\n",
       "      <td>1-Apr-08</td>\n",
       "      <td>1-Apr-08</td>\n",
       "      <td>ABBVIE GmbH &amp; Co.KG Wiesbaden</td>\n",
       "      <td>brakes</td>\n",
       "      <td>Generic</td>\n",
       "      <td>100</td>\n",
       "      <td>240</td>\n",
       "      <td>2.40</td>\n",
       "      <td>0.01</td>\n",
       "      <td>0.00</td>\n",
       "      <td>ABBVIE GmbH &amp; Co.KG Wiesbaden</td>\n",
       "      <td>done</td>\n",
       "      <td>8,854.07</td>\n",
       "      <td>186,859.67</td>\n",
       "    </tr>\n",
       "    <tr>\n",
       "      <th>41</th>\n",
       "      <td>399</td>\n",
       "      <td>102-GY-T01</td>\n",
       "      <td>Delhi</td>\n",
       "      <td>Direct Drop</td>\n",
       "      <td>Air</td>\n",
       "      <td>2/28/08</td>\n",
       "      <td>28-Jul-08</td>\n",
       "      <td>28-Jul-08</td>\n",
       "      <td>28-Jul-08</td>\n",
       "      <td>R Fine  LTD</td>\n",
       "      <td>engine</td>\n",
       "      <td>Generic</td>\n",
       "      <td>100</td>\n",
       "      <td>213</td>\n",
       "      <td>2.13</td>\n",
       "      <td>0.01</td>\n",
       "      <td>0.00</td>\n",
       "      <td>R Fine  LTD</td>\n",
       "      <td>done</td>\n",
       "      <td>9,054.54</td>\n",
       "      <td>191,512.23</td>\n",
       "    </tr>\n",
       "    <tr>\n",
       "      <th>42</th>\n",
       "      <td>400</td>\n",
       "      <td>117-ET-T01</td>\n",
       "      <td>Kolkata</td>\n",
       "      <td>Direct Drop</td>\n",
       "      <td>Air</td>\n",
       "      <td>2/29/08</td>\n",
       "      <td>11-Mar-08</td>\n",
       "      <td>11-Mar-08</td>\n",
       "      <td>11-Mar-08</td>\n",
       "      <td>Aurobindo Unit III, India</td>\n",
       "      <td>lights</td>\n",
       "      <td>Capillus</td>\n",
       "      <td>100</td>\n",
       "      <td>63</td>\n",
       "      <td>13,399.25</td>\n",
       "      <td>212.69</td>\n",
       "      <td>2.13</td>\n",
       "      <td>Aurobindo Unit III, India</td>\n",
       "      <td>processing</td>\n",
       "      <td>9,255.00</td>\n",
       "      <td>196,164.78</td>\n",
       "    </tr>\n",
       "    <tr>\n",
       "      <th>43</th>\n",
       "      <td>410</td>\n",
       "      <td>113-ZW-T01</td>\n",
       "      <td>Bangalore</td>\n",
       "      <td>Direct Drop</td>\n",
       "      <td>Air</td>\n",
       "      <td>3/17/08</td>\n",
       "      <td>17-Nov-08</td>\n",
       "      <td>17-Nov-08</td>\n",
       "      <td>17-Nov-08</td>\n",
       "      <td>ABBVIE GmbH &amp; Co.KG Wiesbaden</td>\n",
       "      <td>tyres</td>\n",
       "      <td>Determine</td>\n",
       "      <td>100</td>\n",
       "      <td>1634</td>\n",
       "      <td>117,631.66</td>\n",
       "      <td>71.99</td>\n",
       "      <td>0.72</td>\n",
       "      <td>ABBVIE GmbH &amp; Co.KG Wiesbaden</td>\n",
       "      <td>done</td>\n",
       "      <td>9,455.46</td>\n",
       "      <td>200,817.33</td>\n",
       "    </tr>\n",
       "    <tr>\n",
       "      <th>44</th>\n",
       "      <td>411</td>\n",
       "      <td>123-NG-T01</td>\n",
       "      <td>Mumbai</td>\n",
       "      <td>Direct Drop</td>\n",
       "      <td>Truck</td>\n",
       "      <td>3/13/08</td>\n",
       "      <td>17-Apr-08</td>\n",
       "      <td>17-Apr-08</td>\n",
       "      <td>17-Apr-08</td>\n",
       "      <td>R Fine  LTD</td>\n",
       "      <td>brakes</td>\n",
       "      <td>Stat-Pak</td>\n",
       "      <td>20</td>\n",
       "      <td>1425</td>\n",
       "      <td>38,475.00</td>\n",
       "      <td>27.00</td>\n",
       "      <td>1.35</td>\n",
       "      <td>R Fine  LTD</td>\n",
       "      <td>processing</td>\n",
       "      <td>9,655.93</td>\n",
       "      <td>205,469.89</td>\n",
       "    </tr>\n",
       "    <tr>\n",
       "      <th>45</th>\n",
       "      <td>414</td>\n",
       "      <td>119-NA-T01</td>\n",
       "      <td>Delhi</td>\n",
       "      <td>Direct Drop</td>\n",
       "      <td>Air</td>\n",
       "      <td>3/18/08</td>\n",
       "      <td>4-Jun-08</td>\n",
       "      <td>4-Jun-08</td>\n",
       "      <td>4-Jun-08</td>\n",
       "      <td>Ci,  India</td>\n",
       "      <td>engine</td>\n",
       "      <td>Determine</td>\n",
       "      <td>100</td>\n",
       "      <td>142</td>\n",
       "      <td>10,222.58</td>\n",
       "      <td>71.99</td>\n",
       "      <td>0.72</td>\n",
       "      <td>Ci,  India</td>\n",
       "      <td>processing</td>\n",
       "      <td>9,856.39</td>\n",
       "      <td>210,122.44</td>\n",
       "    </tr>\n",
       "    <tr>\n",
       "      <th>46</th>\n",
       "      <td>420</td>\n",
       "      <td>108-VN-T01</td>\n",
       "      <td>Kolkata</td>\n",
       "      <td>Direct Drop</td>\n",
       "      <td>Air</td>\n",
       "      <td>3/31/08</td>\n",
       "      <td>3-Jun-08</td>\n",
       "      <td>3-Jun-08</td>\n",
       "      <td>3-Jun-08</td>\n",
       "      <td>ABBVIE GmbH &amp; Co.KG Wiesbaden</td>\n",
       "      <td>lights</td>\n",
       "      <td>Generic</td>\n",
       "      <td>30</td>\n",
       "      <td>8400</td>\n",
       "      <td>96,432.00</td>\n",
       "      <td>11.48</td>\n",
       "      <td>0.38</td>\n",
       "      <td>ABBVIE GmbH &amp; Co.KG Wiesbaden</td>\n",
       "      <td>processing</td>\n",
       "      <td>10,056.86</td>\n",
       "      <td>214,775.00</td>\n",
       "    </tr>\n",
       "    <tr>\n",
       "      <th>47</th>\n",
       "      <td>422</td>\n",
       "      <td>116-ZA-T01</td>\n",
       "      <td>Bangalore</td>\n",
       "      <td>Direct Drop</td>\n",
       "      <td>Air</td>\n",
       "      <td>2/20/08</td>\n",
       "      <td>24-Apr-08</td>\n",
       "      <td>24-Apr-08</td>\n",
       "      <td>24-Apr-08</td>\n",
       "      <td>BMS Meymac, France</td>\n",
       "      <td>tyres</td>\n",
       "      <td>Invirase</td>\n",
       "      <td>270</td>\n",
       "      <td>6</td>\n",
       "      <td>405.06</td>\n",
       "      <td>67.51</td>\n",
       "      <td>0.25</td>\n",
       "      <td>BMS Meymac, France</td>\n",
       "      <td>done</td>\n",
       "      <td>10,257.32</td>\n",
       "      <td>219,427.55</td>\n",
       "    </tr>\n",
       "    <tr>\n",
       "      <th>48</th>\n",
       "      <td>423</td>\n",
       "      <td>116-ZA-T01</td>\n",
       "      <td>Mumbai</td>\n",
       "      <td>Direct Drop</td>\n",
       "      <td>Ship</td>\n",
       "      <td>2/20/08</td>\n",
       "      <td>24-Apr-08</td>\n",
       "      <td>24-Apr-08</td>\n",
       "      <td>24-Apr-08</td>\n",
       "      <td>R Fine  LTD</td>\n",
       "      <td>brakes</td>\n",
       "      <td>Zerit</td>\n",
       "      <td>200</td>\n",
       "      <td>600</td>\n",
       "      <td>870.00</td>\n",
       "      <td>1.45</td>\n",
       "      <td>0.01</td>\n",
       "      <td>R Fine  LTD</td>\n",
       "      <td>done</td>\n",
       "      <td>10,457.79</td>\n",
       "      <td>224,080.11</td>\n",
       "    </tr>\n",
       "  </tbody>\n",
       "</table>\n",
       "</div>"
      ],
      "text/plain": [
       "    InvoiceID   ProductID       City  Fulfill Via Shipment Mode  \\\n",
       "39        392  104-CI-T01  Bangalore  Direct Drop           Air   \n",
       "40        398  102-GY-T01     Mumbai  Direct Drop           Air   \n",
       "41        399  102-GY-T01      Delhi  Direct Drop           Air   \n",
       "42        400  117-ET-T01    Kolkata  Direct Drop           Air   \n",
       "43        410  113-ZW-T01  Bangalore  Direct Drop           Air   \n",
       "44        411  123-NG-T01     Mumbai  Direct Drop         Truck   \n",
       "45        414  119-NA-T01      Delhi  Direct Drop           Air   \n",
       "46        420  108-VN-T01    Kolkata  Direct Drop           Air   \n",
       "47        422  116-ZA-T01  Bangalore  Direct Drop           Air   \n",
       "48        423  116-ZA-T01     Mumbai  Direct Drop          Ship   \n",
       "\n",
       "   PO Sent to Vendor Date Scheduled Delivery Date Delivered to Client Date  \\\n",
       "39                 3/3/08               19-Mar-09                19-Mar-09   \n",
       "40                2/28/08                9-Apr-08                 1-Apr-08   \n",
       "41                2/28/08               28-Jul-08                28-Jul-08   \n",
       "42                2/29/08               11-Mar-08                11-Mar-08   \n",
       "43                3/17/08               17-Nov-08                17-Nov-08   \n",
       "44                3/13/08               17-Apr-08                17-Apr-08   \n",
       "45                3/18/08                4-Jun-08                 4-Jun-08   \n",
       "46                3/31/08                3-Jun-08                 3-Jun-08   \n",
       "47                2/20/08               24-Apr-08                24-Apr-08   \n",
       "48                2/20/08               24-Apr-08                24-Apr-08   \n",
       "\n",
       "   Delivery Recorded Date                         Vendor Item Description  \\\n",
       "39              19-Mar-09      Aurobindo Unit III, India            tyres   \n",
       "40               1-Apr-08  ABBVIE GmbH & Co.KG Wiesbaden           brakes   \n",
       "41              28-Jul-08                    R Fine  LTD          engine    \n",
       "42              11-Mar-08      Aurobindo Unit III, India           lights   \n",
       "43              17-Nov-08  ABBVIE GmbH & Co.KG Wiesbaden            tyres   \n",
       "44              17-Apr-08                    R Fine  LTD           brakes   \n",
       "45               4-Jun-08                     Ci,  India          engine    \n",
       "46               3-Jun-08  ABBVIE GmbH & Co.KG Wiesbaden           lights   \n",
       "47              24-Apr-08             BMS Meymac, France            tyres   \n",
       "48              24-Apr-08                    R Fine  LTD           brakes   \n",
       "\n",
       "        Brand  Unit of Measure (Per Pack)  Line Item Quantity  \\\n",
       "39    Bioline                          25                 659   \n",
       "40    Generic                         100                 240   \n",
       "41    Generic                         100                 213   \n",
       "42   Capillus                         100                  63   \n",
       "43  Determine                         100                1634   \n",
       "44   Stat-Pak                          20                1425   \n",
       "45  Determine                         100                 142   \n",
       "46    Generic                          30                8400   \n",
       "47   Invirase                         270                   6   \n",
       "48      Zerit                         200                 600   \n",
       "\n",
       "        Line Item Value           Pack Price           Unit Price  \\\n",
       "39            13,180.00                20.00                 0.80   \n",
       "40                 2.40                 0.01                 0.00   \n",
       "41                 2.13                 0.01                 0.00   \n",
       "42            13,399.25               212.69                 2.13   \n",
       "43           117,631.66                71.99                 0.72   \n",
       "44            38,475.00                27.00                 1.35   \n",
       "45            10,222.58                71.99                 0.72   \n",
       "46            96,432.00                11.48                 0.38   \n",
       "47               405.06                67.51                 0.25   \n",
       "48               870.00                 1.45                 0.01   \n",
       "\n",
       "               Manufacturing Site Payment Status   Weight (Kilograms)  \\\n",
       "39      Aurobindo Unit III, India    processing              8,653.61   \n",
       "40  ABBVIE GmbH & Co.KG Wiesbaden          done              8,854.07   \n",
       "41                    R Fine  LTD          done              9,054.54   \n",
       "42      Aurobindo Unit III, India    processing              9,255.00   \n",
       "43  ABBVIE GmbH & Co.KG Wiesbaden          done              9,455.46   \n",
       "44                    R Fine  LTD    processing              9,655.93   \n",
       "45                     Ci,  India    processing              9,856.39   \n",
       "46  ABBVIE GmbH & Co.KG Wiesbaden    processing             10,056.86   \n",
       "47             BMS Meymac, France          done             10,257.32   \n",
       "48                    R Fine  LTD          done             10,457.79   \n",
       "\n",
       "    Freight Cost (Rupees)  \n",
       "39             182,207.12  \n",
       "40             186,859.67  \n",
       "41             191,512.23  \n",
       "42             196,164.78  \n",
       "43             200,817.33  \n",
       "44             205,469.89  \n",
       "45             210,122.44  \n",
       "46             214,775.00  \n",
       "47             219,427.55  \n",
       "48             224,080.11  "
      ]
     },
     "execution_count": 9,
     "metadata": {
      "tags": []
     },
     "output_type": "execute_result"
    }
   ],
   "source": [
    "DataSet.tail(10)"
   ]
  },
  {
   "cell_type": "markdown",
   "metadata": {
    "id": "xuVKmEgA5ImM"
   },
   "source": [
    "### ***Number of Transactions Per City***"
   ]
  },
  {
   "cell_type": "code",
   "execution_count": 26,
   "metadata": {
    "colab": {
     "base_uri": "https://localhost:8080/",
     "height": 628
    },
    "id": "6Hl0d4N2rBZu",
    "outputId": "11985b11-f823-4f7b-e356-e42d6940e701"
   },
   "outputs": [
    {
     "name": "stdout",
     "output_type": "stream",
     "text": [
      "City Wise Count \n",
      "\n",
      "Mumbai       13\n",
      "Kolkata      12\n",
      "Bangalore    12\n",
      "Delhi        12\n",
      "Name: City, dtype: int64\n"
     ]
    },
    {
     "name": "stderr",
     "output_type": "stream",
     "text": [
      "/usr/local/lib/python3.7/dist-packages/seaborn/_decorators.py:43: FutureWarning:\n",
      "\n",
      "Pass the following variable as a keyword arg: x. From version 0.12, the only valid positional argument will be `data`, and passing other arguments without an explicit keyword will result in an error or misinterpretation.\n",
      "\n"
     ]
    },
    {
     "data": {
      "text/plain": [
       "Text(0.5, 0, 'City Name')"
      ]
     },
     "execution_count": 26,
     "metadata": {
      "tags": []
     },
     "output_type": "execute_result"
    },
    {
     "data": {
      "image/png": "[encoded data removed]",
      "text/plain": [
       "<Figure size 1584x432 with 1 Axes>"
      ]
     },
     "metadata": {
      "tags": []
     },
     "output_type": "display_data"
    }
   ],
   "source": [
    "DataSet = DataSet.dropna()\n",
    "ItemCount = DataSet[\"City\"].value_counts().nlargest(10)\n",
    "print(\"City Wise Count \\n\")\n",
    "print(ItemCount)\n",
    "sn.set_context(\"talk\",font_scale=1)\n",
    "plt.figure(figsize=(22,6))\n",
    "sn.countplot(DataSet['City'],order = DataSet['City'].value_counts().nlargest(10).index)\n",
    "plt.title('City Wise Count \\n')\n",
    "plt.ylabel('Total Count')\n",
    "plt.xlabel('City Name')"
   ]
  },
  {
   "cell_type": "markdown",
   "metadata": {
    "id": "bG7UMtZE5cYz"
   },
   "source": [
    "### ***Freight Cost City wise***"
   ]
  },
  {
   "cell_type": "code",
   "execution_count": 25,
   "metadata": {
    "colab": {
     "base_uri": "https://localhost:8080/",
     "height": 490
    },
    "id": "lCC9e7R6xuSG",
    "outputId": "429d79a8-0100-4b3a-ddcc-e54edbd64c5d"
   },
   "outputs": [
    {
     "name": "stderr",
     "output_type": "stream",
     "text": [
      "No handles with labels found to put in legend.\n"
     ]
    },
    {
     "data": {
      "text/plain": [
       "Text(0.5, 1.0, 'City Wise Freight Cost Comparision')"
      ]
     },
     "execution_count": 25,
     "metadata": {
      "tags": []
     },
     "output_type": "execute_result"
    },
    {
     "data": {
      "image/png": "[encoded data removed]",
      "text/plain": [
       "<Figure size 1080x432 with 1 Axes>"
      ]
     },
     "metadata": {
      "tags": []
     },
     "output_type": "display_data"
    }
   ],
   "source": [
    "df = pd.read_csv(\"/content/drive/MyDrive/data/supply_chain_ship_price/invoice.csv\")\n",
    "dataset = df\n",
    "from matplotlib import style\n",
    "import seaborn as sns\n",
    "\n",
    "fig = plt.figure()\n",
    "ax1 = plt.subplot2grid((1,1), (0,0))\n",
    "\n",
    "style.use('ggplot')\n",
    "#sns.lineplot(DataSet['City'],order = DataSet['City'].value_counts().nlargest(10).index)\n",
    "sns.lineplot(x=dataset[\"City\"], y=dataset[\"Freight Cost (Rupees)\"], data=df)\n",
    "sns.set(rc={'figure.figsize':(15,6)})\n",
    "\n",
    "plt.title(\"City Wise Count \")\n",
    "plt.xlabel(\"City Name\")\n",
    "plt.ylabel(\"Freight Cost (Rupees)\")\n",
    "plt.grid(True)\n",
    "plt.legend()\n",
    "\n",
    "for label in ax1.xaxis.get_ticklabels():\n",
    "    label.set_rotation(90)\n",
    "\n",
    "\n",
    "plt.title(\"City Wise Freight Cost Comparision\")"
   ]
  },
  {
   "cell_type": "code",
   "execution_count": 28,
   "metadata": {
    "colab": {
     "base_uri": "https://localhost:8080/",
     "height": 578
    },
    "id": "tPYUNqK4xuUw",
    "outputId": "41d67a77-4b60-463b-fa85-bddc91a03526"
   },
   "outputs": [
    {
     "name": "stdout",
     "output_type": "stream",
     "text": [
      "Total Pack Price for City \n",
      "\n",
      "City\n",
      "Delhi                     675.56\n",
      "Kolkata                   595.19\n",
      "Bangalore                 422.78\n",
      "Mumbai                    365.30\n",
      "Name: Pack Price, dtype: float64\n"
     ]
    },
    {
     "data": {
      "text/plain": [
       "Text(0.5, 0, 'City Name')"
      ]
     },
     "execution_count": 28,
     "metadata": {
      "tags": []
     },
     "output_type": "execute_result"
    },
    {
     "data": {
      "image/png": "[encoded data removed]",
      "text/plain": [
       "<Figure size 1584x432 with 1 Axes>"
      ]
     },
     "metadata": {
      "tags": []
     },
     "output_type": "display_data"
    }
   ],
   "source": [
    "TotalPrice = DataSet.groupby(['City'])['Pack Price'].sum().nlargest(15)\n",
    "print(\"Total Pack Price for City \\n\")\n",
    "print(TotalPrice)\n",
    "plt.figure(figsize=(22,6))\n",
    "GraphData=DataSet.groupby(['City'])['Pack Price'].sum().nlargest(15)\n",
    "GraphData.plot(kind='bar')\n",
    "plt.ylabel('Total Pack Price')\n",
    "plt.xlabel('City Name')"
   ]
  },
  {
   "cell_type": "markdown",
   "metadata": {
    "id": "xbHrA5gK5nJE"
   },
   "source": [
    "###  *Total Payment Status*\n",
    "\n",
    "\n",
    "\n"
   ]
  },
  {
   "cell_type": "code",
   "execution_count": 82,
   "metadata": {
    "colab": {
     "base_uri": "https://localhost:8080/",
     "height": 555
    },
    "id": "udB-yfUdx7kP",
    "outputId": "1a6a1081-3a83-47c0-b74d-4206c0584370"
   },
   "outputs": [
    {
     "name": "stderr",
     "output_type": "stream",
     "text": [
      "/usr/local/lib/python3.7/dist-packages/seaborn/_decorators.py:43: FutureWarning:\n",
      "\n",
      "Pass the following variable as a keyword arg: x. From version 0.12, the only valid positional argument will be `data`, and passing other arguments without an explicit keyword will result in an error or misinterpretation.\n",
      "\n"
     ]
    },
    {
     "data": {
      "text/plain": [
       "Text(0.5, 0, 'Payment Status')"
      ]
     },
     "execution_count": 82,
     "metadata": {
      "tags": []
     },
     "output_type": "execute_result"
    },
    {
     "data": {
      "image/png": "[encoded data removed]",
      "text/plain": [
       "<Figure size 360x432 with 1 Axes>"
      ]
     },
     "metadata": {
      "needs_background": "light",
      "tags": []
     },
     "output_type": "display_data"
    }
   ],
   "source": [
    "sn.set_context(\"talk\",font_scale=1)\n",
    "plt.figure(figsize=(5,6))\n",
    "sn.countplot(DataSet['Payment Status'],order = DataSet['Payment Status'].value_counts().nlargest(10).index)\n",
    "plt.title('Payment Status Wise Count \\n')\n",
    "plt.ylabel('Total Count')\n",
    "plt.xlabel('Payment Status')"
   ]
  },
  {
   "cell_type": "code",
   "execution_count": 114,
   "metadata": {
    "colab": {
     "base_uri": "https://localhost:8080/",
     "height": 559
    },
    "id": "qbByIDXgx7m6",
    "outputId": "44e66426-1454-44aa-e8c8-fdf2bb78e7c8"
   },
   "outputs": [
    {
     "data": {
      "application/vnd.plotly.v1+json": {
       "config": {
        "linkText": "Export to plot.ly",
        "plotlyServerURL": "https://plot.ly",
        "showLink": false
       },
       "data": [
        {
         "labels": [
          "Air",
          "Truck",
          "Ship"
         ],
         "type": "pie",
         "values": [
          65.3061224489796,
          20.408163265306122,
          14.285714285714285
         ]
        }
       ],
       "layout": {
        "template": {
         "data": {
          "bar": [
           {
            "error_x": {
             "color": "#2a3f5f"
            },
            "error_y": {
             "color": "#2a3f5f"
            },
            "marker": {
             "line": {
              "color": "#E5ECF6",
              "width": 0.5
             }
            },
            "type": "bar"
           }
          ],
          "barpolar": [
           {
            "marker": {
             "line": {
              "color": "#E5ECF6",
              "width": 0.5
             }
            },
            "type": "barpolar"
           }
          ],
          "carpet": [
           {
            "aaxis": {
             "endlinecolor": "#2a3f5f",
             "gridcolor": "white",
             "linecolor": "white",
             "minorgridcolor": "white",
             "startlinecolor": "#2a3f5f"
            },
            "baxis": {
             "endlinecolor": "#2a3f5f",
             "gridcolor": "white",
             "linecolor": "white",
             "minorgridcolor": "white",
             "startlinecolor": "#2a3f5f"
            },
            "type": "carpet"
           }
          ],
          "choropleth": [
           {
            "colorbar": {
             "outlinewidth": 0,
             "ticks": ""
            },
            "type": "choropleth"
           }
          ],
          "contour": [
           {
            "colorbar": {
             "outlinewidth": 0,
             "ticks": ""
            },
            "colorscale": [
             [
              0,
              "#0d0887"
             ],
             [
              0.1111111111111111,
              "#46039f"
             ],
             [
              0.2222222222222222,
              "#7201a8"
             ],
             [
              0.3333333333333333,
              "#9c179e"
             ],
             [
              0.4444444444444444,
              "#bd3786"
             ],
             [
              0.5555555555555556,
              "#d8576b"
             ],
             [
              0.6666666666666666,
              "#ed7953"
             ],
             [
              0.7777777777777778,
              "#fb9f3a"
             ],
             [
              0.8888888888888888,
              "#fdca26"
             ],
             [
              1,
              "#f0f921"
             ]
            ],
            "type": "contour"
           }
          ],
          "contourcarpet": [
           {
            "colorbar": {
             "outlinewidth": 0,
             "ticks": ""
            },
            "type": "contourcarpet"
           }
          ],
          "heatmap": [
           {
            "colorbar": {
             "outlinewidth": 0,
             "ticks": ""
            },
            "colorscale": [
             [
              0,
              "#0d0887"
             ],
             [
              0.1111111111111111,
              "#46039f"
             ],
             [
              0.2222222222222222,
              "#7201a8"
             ],
             [
              0.3333333333333333,
              "#9c179e"
             ],
             [
              0.4444444444444444,
              "#bd3786"
             ],
             [
              0.5555555555555556,
              "#d8576b"
             ],
             [
              0.6666666666666666,
              "#ed7953"
             ],
             [
              0.7777777777777778,
              "#fb9f3a"
             ],
             [
              0.8888888888888888,
              "#fdca26"
             ],
             [
              1,
              "#f0f921"
             ]
            ],
            "type": "heatmap"
           }
          ],
          "heatmapgl": [
           {
            "colorbar": {
             "outlinewidth": 0,
             "ticks": ""
            },
            "colorscale": [
             [
              0,
              "#0d0887"
             ],
             [
              0.1111111111111111,
              "#46039f"
             ],
             [
              0.2222222222222222,
              "#7201a8"
             ],
             [
              0.3333333333333333,
              "#9c179e"
             ],
             [
              0.4444444444444444,
              "#bd3786"
             ],
             [
              0.5555555555555556,
              "#d8576b"
             ],
             [
              0.6666666666666666,
              "#ed7953"
             ],
             [
              0.7777777777777778,
              "#fb9f3a"
             ],
             [
              0.8888888888888888,
              "#fdca26"
             ],
             [
              1,
              "#f0f921"
             ]
            ],
            "type": "heatmapgl"
           }
          ],
          "histogram": [
           {
            "marker": {
             "colorbar": {
              "outlinewidth": 0,
              "ticks": ""
             }
            },
            "type": "histogram"
           }
          ],
          "histogram2d": [
           {
            "colorbar": {
             "outlinewidth": 0,
             "ticks": ""
            },
            "colorscale": [
             [
              0,
              "#0d0887"
             ],
             [
              0.1111111111111111,
              "#46039f"
             ],
             [
              0.2222222222222222,
              "#7201a8"
             ],
             [
              0.3333333333333333,
              "#9c179e"
             ],
             [
              0.4444444444444444,
              "#bd3786"
             ],
             [
              0.5555555555555556,
              "#d8576b"
             ],
             [
              0.6666666666666666,
              "#ed7953"
             ],
             [
              0.7777777777777778,
              "#fb9f3a"
             ],
             [
              0.8888888888888888,
              "#fdca26"
             ],
             [
              1,
              "#f0f921"
             ]
            ],
            "type": "histogram2d"
           }
          ],
          "histogram2dcontour": [
           {
            "colorbar": {
             "outlinewidth": 0,
             "ticks": ""
            },
            "colorscale": [
             [
              0,
              "#0d0887"
             ],
             [
              0.1111111111111111,
              "#46039f"
             ],
             [
              0.2222222222222222,
              "#7201a8"
             ],
             [
              0.3333333333333333,
              "#9c179e"
             ],
             [
              0.4444444444444444,
              "#bd3786"
             ],
             [
              0.5555555555555556,
              "#d8576b"
             ],
             [
              0.6666666666666666,
              "#ed7953"
             ],
             [
              0.7777777777777778,
              "#fb9f3a"
             ],
             [
              0.8888888888888888,
              "#fdca26"
             ],
             [
              1,
              "#f0f921"
             ]
            ],
            "type": "histogram2dcontour"
           }
          ],
          "mesh3d": [
           {
            "colorbar": {
             "outlinewidth": 0,
             "ticks": ""
            },
            "type": "mesh3d"
           }
          ],
          "parcoords": [
           {
            "line": {
             "colorbar": {
              "outlinewidth": 0,
              "ticks": ""
             }
            },
            "type": "parcoords"
           }
          ],
          "pie": [
           {
            "automargin": true,
            "type": "pie"
           }
          ],
          "scatter": [
           {
            "marker": {
             "colorbar": {
              "outlinewidth": 0,
              "ticks": ""
             }
            },
            "type": "scatter"
           }
          ],
          "scatter3d": [
           {
            "line": {
             "colorbar": {
              "outlinewidth": 0,
              "ticks": ""
             }
            },
            "marker": {
             "colorbar": {
              "outlinewidth": 0,
              "ticks": ""
             }
            },
            "type": "scatter3d"
           }
          ],
          "scattercarpet": [
           {
            "marker": {
             "colorbar": {
              "outlinewidth": 0,
              "ticks": ""
             }
            },
            "type": "scattercarpet"
           }
          ],
          "scattergeo": [
           {
            "marker": {
             "colorbar": {
              "outlinewidth": 0,
              "ticks": ""
             }
            },
            "type": "scattergeo"
           }
          ],
          "scattergl": [
           {
            "marker": {
             "colorbar": {
              "outlinewidth": 0,
              "ticks": ""
             }
            },
            "type": "scattergl"
           }
          ],
          "scattermapbox": [
           {
            "marker": {
             "colorbar": {
              "outlinewidth": 0,
              "ticks": ""
             }
            },
            "type": "scattermapbox"
           }
          ],
          "scatterpolar": [
           {
            "marker": {
             "colorbar": {
              "outlinewidth": 0,
              "ticks": ""
             }
            },
            "type": "scatterpolar"
           }
          ],
          "scatterpolargl": [
           {
            "marker": {
             "colorbar": {
              "outlinewidth": 0,
              "ticks": ""
             }
            },
            "type": "scatterpolargl"
           }
          ],
          "scatterternary": [
           {
            "marker": {
             "colorbar": {
              "outlinewidth": 0,
              "ticks": ""
             }
            },
            "type": "scatterternary"
           }
          ],
          "surface": [
           {
            "colorbar": {
             "outlinewidth": 0,
             "ticks": ""
            },
            "colorscale": [
             [
              0,
              "#0d0887"
             ],
             [
              0.1111111111111111,
              "#46039f"
             ],
             [
              0.2222222222222222,
              "#7201a8"
             ],
             [
              0.3333333333333333,
              "#9c179e"
             ],
             [
              0.4444444444444444,
              "#bd3786"
             ],
             [
              0.5555555555555556,
              "#d8576b"
             ],
             [
              0.6666666666666666,
              "#ed7953"
             ],
             [
              0.7777777777777778,
              "#fb9f3a"
             ],
             [
              0.8888888888888888,
              "#fdca26"
             ],
             [
              1,
              "#f0f921"
             ]
            ],
            "type": "surface"
           }
          ],
          "table": [
           {
            "cells": {
             "fill": {
              "color": "#EBF0F8"
             },
             "line": {
              "color": "white"
             }
            },
            "header": {
             "fill": {
              "color": "#C8D4E3"
             },
             "line": {
              "color": "white"
             }
            },
            "type": "table"
           }
          ]
         },
         "layout": {
          "annotationdefaults": {
           "arrowcolor": "#2a3f5f",
           "arrowhead": 0,
           "arrowwidth": 1
          },
          "coloraxis": {
           "colorbar": {
            "outlinewidth": 0,
            "ticks": ""
           }
          },
          "colorscale": {
           "diverging": [
            [
             0,
             "#8e0152"
            ],
            [
             0.1,
             "#c51b7d"
            ],
            [
             0.2,
             "#de77ae"
            ],
            [
             0.3,
             "#f1b6da"
            ],
            [
             0.4,
             "#fde0ef"
            ],
            [
             0.5,
             "#f7f7f7"
            ],
            [
             0.6,
             "#e6f5d0"
            ],
            [
             0.7,
             "#b8e186"
            ],
            [
             0.8,
             "#7fbc41"
            ],
            [
             0.9,
             "#4d9221"
            ],
            [
             1,
             "#276419"
            ]
           ],
           "sequential": [
            [
             0,
             "#0d0887"
            ],
            [
             0.1111111111111111,
             "#46039f"
            ],
            [
             0.2222222222222222,
             "#7201a8"
            ],
            [
             0.3333333333333333,
             "#9c179e"
            ],
            [
             0.4444444444444444,
             "#bd3786"
            ],
            [
             0.5555555555555556,
             "#d8576b"
            ],
            [
             0.6666666666666666,
             "#ed7953"
            ],
            [
             0.7777777777777778,
             "#fb9f3a"
            ],
            [
             0.8888888888888888,
             "#fdca26"
            ],
            [
             1,
             "#f0f921"
            ]
           ],
           "sequentialminus": [
            [
             0,
             "#0d0887"
            ],
            [
             0.1111111111111111,
             "#46039f"
            ],
            [
             0.2222222222222222,
             "#7201a8"
            ],
            [
             0.3333333333333333,
             "#9c179e"
            ],
            [
             0.4444444444444444,
             "#bd3786"
            ],
            [
             0.5555555555555556,
             "#d8576b"
            ],
            [
             0.6666666666666666,
             "#ed7953"
            ],
            [
             0.7777777777777778,
             "#fb9f3a"
            ],
            [
             0.8888888888888888,
             "#fdca26"
            ],
            [
             1,
             "#f0f921"
            ]
           ]
          },
          "colorway": [
           "#636efa",
           "#EF553B",
           "#00cc96",
           "#ab63fa",
           "#FFA15A",
           "#19d3f3",
           "#FF6692",
           "#B6E880",
           "#FF97FF",
           "#FECB52"
          ],
          "font": {
           "color": "#2a3f5f"
          },
          "geo": {
           "bgcolor": "white",
           "lakecolor": "white",
           "landcolor": "#E5ECF6",
           "showlakes": true,
           "showland": true,
           "subunitcolor": "white"
          },
          "hoverlabel": {
           "align": "left"
          },
          "hovermode": "closest",
          "mapbox": {
           "style": "light"
          },
          "paper_bgcolor": "white",
          "plot_bgcolor": "#E5ECF6",
          "polar": {
           "angularaxis": {
            "gridcolor": "white",
            "linecolor": "white",
            "ticks": ""
           },
           "bgcolor": "#E5ECF6",
           "radialaxis": {
            "gridcolor": "white",
            "linecolor": "white",
            "ticks": ""
           }
          },
          "scene": {
           "xaxis": {
            "backgroundcolor": "#E5ECF6",
            "gridcolor": "white",
            "gridwidth": 2,
            "linecolor": "white",
            "showbackground": true,
            "ticks": "",
            "zerolinecolor": "white"
           },
           "yaxis": {
            "backgroundcolor": "#E5ECF6",
            "gridcolor": "white",
            "gridwidth": 2,
            "linecolor": "white",
            "showbackground": true,
            "ticks": "",
            "zerolinecolor": "white"
           },
           "zaxis": {
            "backgroundcolor": "#E5ECF6",
            "gridcolor": "white",
            "gridwidth": 2,
            "linecolor": "white",
            "showbackground": true,
            "ticks": "",
            "zerolinecolor": "white"
           }
          },
          "shapedefaults": {
           "line": {
            "color": "#2a3f5f"
           }
          },
          "ternary": {
           "aaxis": {
            "gridcolor": "white",
            "linecolor": "white",
            "ticks": ""
           },
           "baxis": {
            "gridcolor": "white",
            "linecolor": "white",
            "ticks": ""
           },
           "bgcolor": "#E5ECF6",
           "caxis": {
            "gridcolor": "white",
            "linecolor": "white",
            "ticks": ""
           }
          },
          "title": {
           "x": 0.05
          },
          "xaxis": {
           "automargin": true,
           "gridcolor": "white",
           "linecolor": "white",
           "ticks": "",
           "title": {
            "standoff": 15
           },
           "zerolinecolor": "white",
           "zerolinewidth": 2
          },
          "yaxis": {
           "automargin": true,
           "gridcolor": "white",
           "linecolor": "white",
           "ticks": "",
           "title": {
            "standoff": 15
           },
           "zerolinecolor": "white",
           "zerolinewidth": 2
          }
         }
        },
        "title": {
         "text": "Shipment Mode"
        }
       }
      },
      "text/html": [
       "<div>\n",
       "        \n",
       "        \n",
       "            <div id=\"de06b666-f652-4761-b679-2c44aa1d17d9\" class=\"plotly-graph-div\" style=\"height:525px; width:100%;\"></div>\n",
       "            <script type=\"text/javascript\">\n",
       "                require([\"plotly\"], function(Plotly) {\n",
       "                    window.PLOTLYENV=window.PLOTLYENV || {};\n",
       "                    \n",
       "                if (document.getElementById(\"de06b666-f652-4761-b679-2c44aa1d17d9\")) {\n",
       "                    Plotly.newPlot(\n",
       "                        'de06b666-f652-4761-b679-2c44aa1d17d9',\n",
       "                        [{\"labels\": [\"Air\", \"Truck\", \"Ship\"], \"type\": \"pie\", \"values\": [65.3061224489796, 20.408163265306122, 14.285714285714285]}],\n",
       "                        {\"template\": {\"data\": {\"bar\": [{\"error_x\": {\"color\": \"#2a3f5f\"}, \"error_y\": {\"color\": \"#2a3f5f\"}, \"marker\": {\"line\": {\"color\": \"#E5ECF6\", \"width\": 0.5}}, \"type\": \"bar\"}], \"barpolar\": [{\"marker\": {\"line\": {\"color\": \"#E5ECF6\", \"width\": 0.5}}, \"type\": \"barpolar\"}], \"carpet\": [{\"aaxis\": {\"endlinecolor\": \"#2a3f5f\", \"gridcolor\": \"white\", \"linecolor\": \"white\", \"minorgridcolor\": \"white\", \"startlinecolor\": \"#2a3f5f\"}, \"baxis\": {\"endlinecolor\": \"#2a3f5f\", \"gridcolor\": \"white\", \"linecolor\": \"white\", \"minorgridcolor\": \"white\", \"startlinecolor\": \"#2a3f5f\"}, \"type\": \"carpet\"}], \"choropleth\": [{\"colorbar\": {\"outlinewidth\": 0, \"ticks\": \"\"}, \"type\": \"choropleth\"}], \"contour\": [{\"colorbar\": {\"outlinewidth\": 0, \"ticks\": \"\"}, \"colorscale\": [[0.0, \"#0d0887\"], [0.1111111111111111, \"#46039f\"], [0.2222222222222222, \"#7201a8\"], [0.3333333333333333, \"#9c179e\"], [0.4444444444444444, \"#bd3786\"], [0.5555555555555556, \"#d8576b\"], [0.6666666666666666, \"#ed7953\"], [0.7777777777777778, \"#fb9f3a\"], [0.8888888888888888, \"#fdca26\"], [1.0, \"#f0f921\"]], \"type\": \"contour\"}], \"contourcarpet\": [{\"colorbar\": {\"outlinewidth\": 0, \"ticks\": \"\"}, \"type\": \"contourcarpet\"}], \"heatmap\": [{\"colorbar\": {\"outlinewidth\": 0, \"ticks\": \"\"}, \"colorscale\": [[0.0, \"#0d0887\"], [0.1111111111111111, \"#46039f\"], [0.2222222222222222, \"#7201a8\"], [0.3333333333333333, \"#9c179e\"], [0.4444444444444444, \"#bd3786\"], [0.5555555555555556, \"#d8576b\"], [0.6666666666666666, \"#ed7953\"], [0.7777777777777778, \"#fb9f3a\"], [0.8888888888888888, \"#fdca26\"], [1.0, \"#f0f921\"]], \"type\": \"heatmap\"}], \"heatmapgl\": [{\"colorbar\": {\"outlinewidth\": 0, \"ticks\": \"\"}, \"colorscale\": [[0.0, \"#0d0887\"], [0.1111111111111111, \"#46039f\"], [0.2222222222222222, \"#7201a8\"], [0.3333333333333333, \"#9c179e\"], [0.4444444444444444, \"#bd3786\"], [0.5555555555555556, \"#d8576b\"], [0.6666666666666666, \"#ed7953\"], [0.7777777777777778, \"#fb9f3a\"], [0.8888888888888888, \"#fdca26\"], [1.0, \"#f0f921\"]], \"type\": \"heatmapgl\"}], \"histogram\": [{\"marker\": {\"colorbar\": {\"outlinewidth\": 0, \"ticks\": \"\"}}, \"type\": \"histogram\"}], \"histogram2d\": [{\"colorbar\": {\"outlinewidth\": 0, \"ticks\": \"\"}, \"colorscale\": [[0.0, \"#0d0887\"], [0.1111111111111111, \"#46039f\"], [0.2222222222222222, \"#7201a8\"], [0.3333333333333333, \"#9c179e\"], [0.4444444444444444, \"#bd3786\"], [0.5555555555555556, \"#d8576b\"], [0.6666666666666666, \"#ed7953\"], [0.7777777777777778, \"#fb9f3a\"], [0.8888888888888888, \"#fdca26\"], [1.0, \"#f0f921\"]], \"type\": \"histogram2d\"}], \"histogram2dcontour\": [{\"colorbar\": {\"outlinewidth\": 0, \"ticks\": \"\"}, \"colorscale\": [[0.0, \"#0d0887\"], [0.1111111111111111, \"#46039f\"], [0.2222222222222222, \"#7201a8\"], [0.3333333333333333, \"#9c179e\"], [0.4444444444444444, \"#bd3786\"], [0.5555555555555556, \"#d8576b\"], [0.6666666666666666, \"#ed7953\"], [0.7777777777777778, \"#fb9f3a\"], [0.8888888888888888, \"#fdca26\"], [1.0, \"#f0f921\"]], \"type\": \"histogram2dcontour\"}], \"mesh3d\": [{\"colorbar\": {\"outlinewidth\": 0, \"ticks\": \"\"}, \"type\": \"mesh3d\"}], \"parcoords\": [{\"line\": {\"colorbar\": {\"outlinewidth\": 0, \"ticks\": \"\"}}, \"type\": \"parcoords\"}], \"pie\": [{\"automargin\": true, \"type\": \"pie\"}], \"scatter\": [{\"marker\": {\"colorbar\": {\"outlinewidth\": 0, \"ticks\": \"\"}}, \"type\": \"scatter\"}], \"scatter3d\": [{\"line\": {\"colorbar\": {\"outlinewidth\": 0, \"ticks\": \"\"}}, \"marker\": {\"colorbar\": {\"outlinewidth\": 0, \"ticks\": \"\"}}, \"type\": \"scatter3d\"}], \"scattercarpet\": [{\"marker\": {\"colorbar\": {\"outlinewidth\": 0, \"ticks\": \"\"}}, \"type\": \"scattercarpet\"}], \"scattergeo\": [{\"marker\": {\"colorbar\": {\"outlinewidth\": 0, \"ticks\": \"\"}}, \"type\": \"scattergeo\"}], \"scattergl\": [{\"marker\": {\"colorbar\": {\"outlinewidth\": 0, \"ticks\": \"\"}}, \"type\": \"scattergl\"}], \"scattermapbox\": [{\"marker\": {\"colorbar\": {\"outlinewidth\": 0, \"ticks\": \"\"}}, \"type\": \"scattermapbox\"}], \"scatterpolar\": [{\"marker\": {\"colorbar\": {\"outlinewidth\": 0, \"ticks\": \"\"}}, \"type\": \"scatterpolar\"}], \"scatterpolargl\": [{\"marker\": {\"colorbar\": {\"outlinewidth\": 0, \"ticks\": \"\"}}, \"type\": \"scatterpolargl\"}], \"scatterternary\": [{\"marker\": {\"colorbar\": {\"outlinewidth\": 0, \"ticks\": \"\"}}, \"type\": \"scatterternary\"}], \"surface\": [{\"colorbar\": {\"outlinewidth\": 0, \"ticks\": \"\"}, \"colorscale\": [[0.0, \"#0d0887\"], [0.1111111111111111, \"#46039f\"], [0.2222222222222222, \"#7201a8\"], [0.3333333333333333, \"#9c179e\"], [0.4444444444444444, \"#bd3786\"], [0.5555555555555556, \"#d8576b\"], [0.6666666666666666, \"#ed7953\"], [0.7777777777777778, \"#fb9f3a\"], [0.8888888888888888, \"#fdca26\"], [1.0, \"#f0f921\"]], \"type\": \"surface\"}], \"table\": [{\"cells\": {\"fill\": {\"color\": \"#EBF0F8\"}, \"line\": {\"color\": \"white\"}}, \"header\": {\"fill\": {\"color\": \"#C8D4E3\"}, \"line\": {\"color\": \"white\"}}, \"type\": \"table\"}]}, \"layout\": {\"annotationdefaults\": {\"arrowcolor\": \"#2a3f5f\", \"arrowhead\": 0, \"arrowwidth\": 1}, \"coloraxis\": {\"colorbar\": {\"outlinewidth\": 0, \"ticks\": \"\"}}, \"colorscale\": {\"diverging\": [[0, \"#8e0152\"], [0.1, \"#c51b7d\"], [0.2, \"#de77ae\"], [0.3, \"#f1b6da\"], [0.4, \"#fde0ef\"], [0.5, \"#f7f7f7\"], [0.6, \"#e6f5d0\"], [0.7, \"#b8e186\"], [0.8, \"#7fbc41\"], [0.9, \"#4d9221\"], [1, \"#276419\"]], \"sequential\": [[0.0, \"#0d0887\"], [0.1111111111111111, \"#46039f\"], [0.2222222222222222, \"#7201a8\"], [0.3333333333333333, \"#9c179e\"], [0.4444444444444444, \"#bd3786\"], [0.5555555555555556, \"#d8576b\"], [0.6666666666666666, \"#ed7953\"], [0.7777777777777778, \"#fb9f3a\"], [0.8888888888888888, \"#fdca26\"], [1.0, \"#f0f921\"]], \"sequentialminus\": [[0.0, \"#0d0887\"], [0.1111111111111111, \"#46039f\"], [0.2222222222222222, \"#7201a8\"], [0.3333333333333333, \"#9c179e\"], [0.4444444444444444, \"#bd3786\"], [0.5555555555555556, \"#d8576b\"], [0.6666666666666666, \"#ed7953\"], [0.7777777777777778, \"#fb9f3a\"], [0.8888888888888888, \"#fdca26\"], [1.0, \"#f0f921\"]]}, \"colorway\": [\"#636efa\", \"#EF553B\", \"#00cc96\", \"#ab63fa\", \"#FFA15A\", \"#19d3f3\", \"#FF6692\", \"#B6E880\", \"#FF97FF\", \"#FECB52\"], \"font\": {\"color\": \"#2a3f5f\"}, \"geo\": {\"bgcolor\": \"white\", \"lakecolor\": \"white\", \"landcolor\": \"#E5ECF6\", \"showlakes\": true, \"showland\": true, \"subunitcolor\": \"white\"}, \"hoverlabel\": {\"align\": \"left\"}, \"hovermode\": \"closest\", \"mapbox\": {\"style\": \"light\"}, \"paper_bgcolor\": \"white\", \"plot_bgcolor\": \"#E5ECF6\", \"polar\": {\"angularaxis\": {\"gridcolor\": \"white\", \"linecolor\": \"white\", \"ticks\": \"\"}, \"bgcolor\": \"#E5ECF6\", \"radialaxis\": {\"gridcolor\": \"white\", \"linecolor\": \"white\", \"ticks\": \"\"}}, \"scene\": {\"xaxis\": {\"backgroundcolor\": \"#E5ECF6\", \"gridcolor\": \"white\", \"gridwidth\": 2, \"linecolor\": \"white\", \"showbackground\": true, \"ticks\": \"\", \"zerolinecolor\": \"white\"}, \"yaxis\": {\"backgroundcolor\": \"#E5ECF6\", \"gridcolor\": \"white\", \"gridwidth\": 2, \"linecolor\": \"white\", \"showbackground\": true, \"ticks\": \"\", \"zerolinecolor\": \"white\"}, \"zaxis\": {\"backgroundcolor\": \"#E5ECF6\", \"gridcolor\": \"white\", \"gridwidth\": 2, \"linecolor\": \"white\", \"showbackground\": true, \"ticks\": \"\", \"zerolinecolor\": \"white\"}}, \"shapedefaults\": {\"line\": {\"color\": \"#2a3f5f\"}}, \"ternary\": {\"aaxis\": {\"gridcolor\": \"white\", \"linecolor\": \"white\", \"ticks\": \"\"}, \"baxis\": {\"gridcolor\": \"white\", \"linecolor\": \"white\", \"ticks\": \"\"}, \"bgcolor\": \"#E5ECF6\", \"caxis\": {\"gridcolor\": \"white\", \"linecolor\": \"white\", \"ticks\": \"\"}}, \"title\": {\"x\": 0.05}, \"xaxis\": {\"automargin\": true, \"gridcolor\": \"white\", \"linecolor\": \"white\", \"ticks\": \"\", \"title\": {\"standoff\": 15}, \"zerolinecolor\": \"white\", \"zerolinewidth\": 2}, \"yaxis\": {\"automargin\": true, \"gridcolor\": \"white\", \"linecolor\": \"white\", \"ticks\": \"\", \"title\": {\"standoff\": 15}, \"zerolinecolor\": \"white\", \"zerolinewidth\": 2}}}, \"title\": {\"text\": \"Shipment Mode\"}},\n",
       "                        {\"responsive\": true}\n",
       "                    ).then(function(){\n",
       "                            \n",
       "var gd = document.getElementById('de06b666-f652-4761-b679-2c44aa1d17d9');\n",
       "var x = new MutationObserver(function (mutations, observer) {{\n",
       "        var display = window.getComputedStyle(gd).display;\n",
       "        if (!display || display === 'none') {{\n",
       "            console.log([gd, 'removed!']);\n",
       "            Plotly.purge(gd);\n",
       "            observer.disconnect();\n",
       "        }}\n",
       "}});\n",
       "\n",
       "// Listen for the removal of the full notebook cells\n",
       "var notebookContainer = gd.closest('#notebook-container');\n",
       "if (notebookContainer) {{\n",
       "    x.observe(notebookContainer, {childList: true});\n",
       "}}\n",
       "\n",
       "// Listen for the clearing of the current output cell\n",
       "var outputEl = gd.closest('.output');\n",
       "if (outputEl) {{\n",
       "    x.observe(outputEl, {childList: true});\n",
       "}}\n",
       "\n",
       "                        })\n",
       "                };\n",
       "                });\n",
       "            </script>\n",
       "        </div>"
      ]
     },
     "metadata": {
      "tags": []
     },
     "output_type": "display_data"
    },
    {
     "name": "stdout",
     "output_type": "stream",
     "text": [
      "done\n"
     ]
    }
   ],
   "source": [
    "ShippingMode = DataSet[\"Shipment Mode\"].value_counts()\n",
    "labels = (np.array(ShippingMode.index))\n",
    "sizes = (np.array((ShippingMode / ShippingMode.sum())*100))\n",
    "\n",
    "trace = go.Pie(labels=labels, values=sizes)\n",
    "layout = go.Layout(title=\"Shipment Mode\")\n",
    "dat = [trace]\n",
    "fig = go.Figure(data=dat, layout=layout)\n",
    "py.iplot(fig, filename=\"Shipment Mode\")\n",
    "print(\"done\")"
   ]
  },
  {
   "cell_type": "code",
   "execution_count": 84,
   "metadata": {
    "colab": {
     "base_uri": "https://localhost:8080/"
    },
    "id": "V3fJgvtTx7po",
    "outputId": "1af65900-19b8-41d1-d28f-963ead7e5d85"
   },
   "outputs": [
    {
     "name": "stdout",
     "output_type": "stream",
     "text": [
      "All Unique Manufacturing Site \n",
      "\n",
      "['R Fine  LTD' 'Aurobindo Unit III, India' 'ABBVIE GmbH & Co.KG Wiesbaden'\n",
      " 'Ci,  India' 'BMS Meymac, France']\n"
     ]
    }
   ],
   "source": [
    "UniqueItem = DataSet['Manufacturing Site'].unique()\n",
    "print(\"All Unique Manufacturing Site \\n\")\n",
    "print(UniqueItem)"
   ]
  },
  {
   "cell_type": "markdown",
   "metadata": {
    "id": "LQLzUjbyGDBK"
   },
   "source": [
    "### **Analysis with respect to Different Shipment Mode** "
   ]
  },
  {
   "cell_type": "code",
   "execution_count": 85,
   "metadata": {
    "colab": {
     "base_uri": "https://localhost:8080/"
    },
    "id": "-U9IBOgQx7sV",
    "outputId": "54e10b04-af04-4882-9823-e7242a8825f3"
   },
   "outputs": [
    {
     "name": "stdout",
     "output_type": "stream",
     "text": [
      "The Max Air Shipment Mode is : 270\n",
      "The Min Air Shipment is : 20\n",
      "The Mean Air Shipment is : 75.0\n"
     ]
    }
   ],
   "source": [
    "ItemData=DataSet[DataSet['Shipment Mode']=='Air']\n",
    "print (\"The Max Air Shipment Mode is :\",ItemData['Unit of Measure (Per Pack)'].max())\n",
    "print (\"The Min Air Shipment is :\",ItemData['Unit of Measure (Per Pack)'].min())\n",
    "ItemTypeMean = ItemData['Unit of Measure (Per Pack)'].mean()\n",
    "print (\"The Mean Air Shipment is :\", round(ItemTypeMean,2))"
   ]
  },
  {
   "cell_type": "code",
   "execution_count": 86,
   "metadata": {
    "colab": {
     "base_uri": "https://localhost:8080/"
    },
    "id": "bn42o1r2Q5Pd",
    "outputId": "69025767-3bf8-4da4-c311-d430bc085d6d"
   },
   "outputs": [
    {
     "name": "stdout",
     "output_type": "stream",
     "text": [
      "The Max Truck Shipment Mode is : 240\n",
      "The Min Truck Shipment is : 20\n",
      "The Mean Truck Shipment is : 112.0\n"
     ]
    }
   ],
   "source": [
    "ItemData=DataSet[DataSet['Shipment Mode']=='Truck']\n",
    "print (\"The Max Truck Shipment Mode is :\",ItemData['Unit of Measure (Per Pack)'].max())\n",
    "print (\"The Min Truck Shipment is :\",ItemData['Unit of Measure (Per Pack)'].min())\n",
    "ItemTypeMean = ItemData['Unit of Measure (Per Pack)'].mean()\n",
    "print (\"The Mean Truck Shipment is :\", round(ItemTypeMean,2))"
   ]
  },
  {
   "cell_type": "code",
   "execution_count": 87,
   "metadata": {
    "colab": {
     "base_uri": "https://localhost:8080/"
    },
    "id": "mz2Nmra7RA4T",
    "outputId": "d76c1681-b262-4849-9d1f-3aa32dc19d91"
   },
   "outputs": [
    {
     "name": "stdout",
     "output_type": "stream",
     "text": [
      "The Max Ship Shipment Mode is : 240\n",
      "The Min Ship Shipment is : 100\n",
      "The Mean Ship Shipment is : 157.14\n"
     ]
    }
   ],
   "source": [
    "ItemData=DataSet[DataSet['Shipment Mode']=='Ship']\n",
    "print (\"The Max Ship Shipment Mode is :\",ItemData['Unit of Measure (Per Pack)'].max())\n",
    "print (\"The Min Ship Shipment is :\",ItemData['Unit of Measure (Per Pack)'].min())\n",
    "ItemTypeMean = ItemData['Unit of Measure (Per Pack)'].mean()\n",
    "print (\"The Mean Ship Shipment is :\", round(ItemTypeMean,2))"
   ]
  },
  {
   "cell_type": "code",
   "execution_count": 34,
   "metadata": {
    "colab": {
     "base_uri": "https://localhost:8080/",
     "height": 868
    },
    "id": "c85nzu6ZyPHK",
    "outputId": "4cddd621-ccb0-43be-b9f5-6cd04b086f1e"
   },
   "outputs": [
    {
     "name": "stdout",
     "output_type": "stream",
     "text": [
      "Manufacturing Site\n",
      "R Fine  LTD                      16\n",
      "ABBVIE GmbH & Co.KG Wiesbaden    15\n",
      "Aurobindo Unit III, India        12\n",
      "BMS Meymac, France                3\n",
      "Ci,  India                        3\n",
      "dtype: int64\n"
     ]
    },
    {
     "name": "stderr",
     "output_type": "stream",
     "text": [
      "/usr/local/lib/python3.7/dist-packages/seaborn/distributions.py:2557: FutureWarning:\n",
      "\n",
      "`distplot` is a deprecated function and will be removed in a future version. Please adapt your code to use either `displot` (a figure-level function with similar flexibility) or `histplot` (an axes-level function for histograms).\n",
      "\n"
     ]
    },
    {
     "data": {
      "text/plain": [
       "Text(0.5, 0, 'Manufacturing Site Name')"
      ]
     },
     "execution_count": 34,
     "metadata": {
      "tags": []
     },
     "output_type": "execute_result"
    },
    {
     "data": {
      "image/png": "[encoded data removed]",
      "text/plain": [
       "<Figure size 1584x432 with 1 Axes>"
      ]
     },
     "metadata": {
      "tags": []
     },
     "output_type": "display_data"
    }
   ],
   "source": [
    "plt.figure(figsize=(22,6))\n",
    "TopFiveManufacturingSite=DataSet.groupby('Manufacturing Site').size().nlargest(10)\n",
    "print(TopFiveManufacturingSite)\n",
    "TopFiveManufacturingSite.plot(kind='bar')\n",
    "np.random.normal(size=60)\n",
    "#y = np.random.normal(size=60)\n",
    "import seaborn as sb\n",
    "sb.distplot(x)\n",
    "plt.title('Top Manufacturing Site among all \\n')\n",
    "plt.ylabel('Total Count')\n",
    "plt.xlabel('Manufacturing Site Name')"
   ]
  },
  {
   "cell_type": "code",
   "execution_count": 99,
   "metadata": {
    "colab": {
     "base_uri": "https://localhost:8080/",
     "height": 797
    },
    "id": "F0sp2UibyPKR",
    "outputId": "2adf0567-4bc1-4e3d-d92e-7a3e7832dc79"
   },
   "outputs": [
    {
     "name": "stdout",
     "output_type": "stream",
     "text": [
      "Top Air Transport Manufacturing Site \n",
      "\n",
      "ABBVIE GmbH & Co.KG Wiesbaden    10\n",
      "Aurobindo Unit III, India         9\n",
      "R Fine  LTD                       8\n",
      "Ci,  India                        3\n",
      "BMS Meymac, France                2\n",
      "Name: Manufacturing Site, dtype: int64\n"
     ]
    },
    {
     "data": {
      "text/plain": [
       "Text(0.5, 0, 'Manufacturing Site')"
      ]
     },
     "execution_count": 99,
     "metadata": {
      "tags": []
     },
     "output_type": "execute_result"
    },
    {
     "data": {
      "image/png": "[encoded data removed]",
      "text/plain": [
       "<Figure size 1584x432 with 1 Axes>"
      ]
     },
     "metadata": {
      "needs_background": "light",
      "tags": []
     },
     "output_type": "display_data"
    }
   ],
   "source": [
    "# Top Air Shipment Mode in Bar Chart\n",
    "ItemData=DataSet[DataSet['Shipment Mode']=='Air']\n",
    "DataSet[DataSet[\"Shipment Mode\"]=='Air']['Manufacturing Site'].value_counts()[0:10].to_frame().plot.bar(figsize=(22,6))\n",
    "ItemSupplier = DataSet[DataSet[\"Shipment Mode\"]=='Air']['Manufacturing Site'].value_counts()[0:10]\n",
    "print(\"Top Air Transport Manufacturing Site \\n\")\n",
    "print(ItemSupplier)\n",
    "plt.title('Top  Air Transport Manufacturing Site\\n')\n",
    "plt.ylabel('Air Count')\n",
    "plt.xlabel('Manufacturing Site')"
   ]
  },
  {
   "cell_type": "code",
   "execution_count": 90,
   "metadata": {
    "colab": {
     "base_uri": "https://localhost:8080/",
     "height": 763
    },
    "id": "E96Cve3AROpB",
    "outputId": "73e37919-b93a-4f11-f5aa-7f89df2ad4de"
   },
   "outputs": [
    {
     "name": "stdout",
     "output_type": "stream",
     "text": [
      "Top  Truck Manufacturing Site \n",
      "\n",
      "ABBVIE GmbH & Co.KG Wiesbaden    5\n",
      "R Fine  LTD                      4\n",
      "BMS Meymac, France               1\n",
      "Name: Manufacturing Site, dtype: int64\n"
     ]
    },
    {
     "data": {
      "text/plain": [
       "Text(0.5, 0, 'Manufacturing Site')"
      ]
     },
     "execution_count": 90,
     "metadata": {
      "tags": []
     },
     "output_type": "execute_result"
    },
    {
     "data": {
      "image/png": "[encoded data removed]",
      "text/plain": [
       "<Figure size 1584x432 with 1 Axes>"
      ]
     },
     "metadata": {
      "needs_background": "light",
      "tags": []
     },
     "output_type": "display_data"
    }
   ],
   "source": [
    "# Top Truck Shipment Mode in Bar Chart\n",
    "ItemData=DataSet[DataSet['Shipment Mode']=='Truck']\n",
    "DataSet[DataSet[\"Shipment Mode\"]=='Air']['Manufacturing Site'].value_counts()[0:10].to_frame().plot.bar(figsize=(22,6))\n",
    "ItemSupplier = DataSet[DataSet[\"Shipment Mode\"]=='Truck']['Manufacturing Site'].value_counts()[0:10]\n",
    "print(\"Top  Truck Manufacturing Site \\n\")\n",
    "print(ItemSupplier)\n",
    "plt.title('Top Truck Transport Manufacturing Site\\n')\n",
    "plt.ylabel('Truck Count')\n",
    "plt.xlabel('Manufacturing Site')"
   ]
  },
  {
   "cell_type": "code",
   "execution_count": 91,
   "metadata": {
    "colab": {
     "base_uri": "https://localhost:8080/",
     "height": 527
    },
    "id": "ENAGcQvOyPM1",
    "outputId": "64fcec82-9db8-4c9f-cea3-1ca1781e2342"
   },
   "outputs": [
    {
     "name": "stderr",
     "output_type": "stream",
     "text": [
      "/usr/local/lib/python3.7/dist-packages/seaborn/_decorators.py:43: FutureWarning:\n",
      "\n",
      "Pass the following variables as keyword args: x, y. From version 0.12, the only valid positional argument will be `data`, and passing other arguments without an explicit keyword will result in an error or misinterpretation.\n",
      "\n"
     ]
    },
    {
     "data": {
      "image/png": "[encoded data removed]",
      "text/plain": [
       "<Figure size 1296x432 with 1 Axes>"
      ]
     },
     "metadata": {
      "needs_background": "light",
      "tags": []
     },
     "output_type": "display_data"
    }
   ],
   "source": [
    "plt.subplots(figsize = (18,6))\n",
    "plt.xticks(rotation = 90)\n",
    "sn.barplot('Shipment Mode','Pack Price', data = DataSet)\n",
    "plt.show()"
   ]
  },
  {
   "cell_type": "markdown",
   "metadata": {
    "id": "saeJCLazGS_6"
   },
   "source": [
    "### **Total Amount spend for particular Items**"
   ]
  },
  {
   "cell_type": "code",
   "execution_count": 112,
   "metadata": {
    "colab": {
     "base_uri": "https://localhost:8080/",
     "height": 520
    },
    "id": "LW4RHfARyPPw",
    "outputId": "38d2e3fb-234b-4a85-ca0c-d0f5f5e82b43"
   },
   "outputs": [
    {
     "name": "stdout",
     "output_type": "stream",
     "text": [
      "Total Price for Item \n",
      "\n",
      "Item Description\n",
      "engine                  675.56\n",
      "lights                  595.19\n",
      "tyres                   422.78\n",
      "brakes                  365.30\n",
      "Name: Pack Price, dtype: float64\n"
     ]
    },
    {
     "data": {
      "text/plain": [
       "Text(0.5, 0, 'Item Description')"
      ]
     },
     "execution_count": 112,
     "metadata": {
      "tags": []
     },
     "output_type": "execute_result"
    },
    {
     "data": {
      "image/png": "[encoded data removed]",
      "text/plain": [
       "<Figure size 1584x432 with 1 Axes>"
      ]
     },
     "metadata": {
      "needs_background": "light",
      "tags": []
     },
     "output_type": "display_data"
    }
   ],
   "source": [
    "TotalPrice = DataSet.groupby(['Item Description'])['Pack Price'].sum().nlargest(15)\n",
    "print(\"Total Price for Item \\n\")\n",
    "print(TotalPrice)\n",
    "plt.figure(figsize=(22,6))\n",
    "GraphData=DataSet.groupby(['Item Description'])['Pack Price'].sum().nlargest(15)\n",
    "GraphData.plot(kind='area')\n",
    "plt.ylabel('Total Price')\n",
    "plt.xlabel('Item Description')"
   ]
  },
  {
   "cell_type": "markdown",
   "metadata": {
    "id": "6fSzbkGAGeAL"
   },
   "source": [
    "### Quantity with respect to Region and Item"
   ]
  },
  {
   "cell_type": "code",
   "execution_count": 73,
   "metadata": {
    "colab": {
     "base_uri": "https://localhost:8080/",
     "height": 667
    },
    "id": "V-R335D-zCX5",
    "outputId": "7b233622-1b7b-4982-a153-6ce20cf260d2"
   },
   "outputs": [
    {
     "data": {
      "image/png": "[encoded data removed]",
      "text/plain": [
       "<Figure size 1440x720 with 2 Axes>"
      ]
     },
     "metadata": {
      "needs_background": "light",
      "tags": []
     },
     "output_type": "display_data"
    }
   ],
   "source": [
    "import pandas as pd\n",
    "import matplotlib.pyplot as plt\n",
    "import seaborn as sns\n",
    "import numpy as np\n",
    "plt.rcParams['figure.figsize'] = (20.0, 10.0)\n",
    "plt.rcParams['font.family'] = \"serif\"\n",
    "plt.title('Quantity with respect to Region and Item\\n')\n",
    "#df = pd.pivot_table(data=sns.load_dataset(\"/content/drive/MyDrive/data/supply_chain_ship_price/invoice.csv\"),\n",
    "df= pd.pivot_table(data= pd.read_csv('/content/drive/MyDrive/data/supply_chain_ship_price/invoice.csv'), \n",
    "index='Item Description',\n",
    "values='Line Item Quantity', \n",
    "columns='City')\n",
    "\n",
    "\n",
    "p = sns.heatmap(df, annot=True, fmt=\".1f\")"
   ]
  },
  {
   "cell_type": "code",
   "execution_count": 116,
   "metadata": {
    "colab": {
     "base_uri": "https://localhost:8080/"
    },
    "id": "9XVQO-_N9B5i",
    "outputId": "11d530ef-0b84-44b3-bacf-93b2baa30d33"
   },
   "outputs": [
    {
     "name": "stdout",
     "output_type": "stream",
     "text": [
      " Individual Invoice Total Amount \n",
      " \n",
      "InvoiceID        Amount\n",
      "0               11,249.34\n",
      "1            6,204,521.50\n",
      "2           20,001,653.78\n",
      "3        4,065,372,743.06\n",
      "4        4,620,845,450.08\n",
      "5              931,770.02\n",
      "6              619,162.81\n",
      "7        1,013,962,770.21\n",
      "8              183,309.47\n",
      "9          322,266,630.47\n",
      "10         322,271,283.02\n",
      "11         250,051,935.58\n",
      "12              65,088.13\n",
      "13         998,061,240.69\n",
      "14          45,065,893.24\n",
      "15           8,619,191.30\n",
      "16         180,075,198.35\n",
      "17          66,079,850.91\n",
      "18           6,466,928.42\n",
      "19          80,089,156.02\n",
      "20       1,518,843,808.57\n",
      "21         775,124,270.63\n",
      "22           2,023,113.68\n",
      "23          20,655,266.24\n",
      "24          40,606,793.79\n",
      "25             335,821.35\n",
      "26       2,000,121,723.90\n",
      "27       2,000,126,376.46\n",
      "28       2,000,131,029.01\n",
      "29       6,348,935,681.57\n",
      "30       2,700,140,334.12\n",
      "31             157,690.68\n",
      "32          17,149,639.23\n",
      "33           1,495,091.79\n",
      "34             181,444.34\n",
      "35             167,821.90\n",
      "36             236,249.45\n",
      "37             173,458.01\n",
      "38          17,397,330.56\n",
      "39           8,867,827.12\n",
      "40             187,435.67\n",
      "41             191,965.92\n",
      "42           1,040,317.53\n",
      "43         192,410,949.78\n",
      "44          55,032,344.89\n",
      "45           1,661,728.80\n",
      "46         810,243,575.00\n",
      "47             221,857.91\n",
      "48             746,080.11\n",
      "dtype: float64\n",
      "\n",
      " Total Transaction amount: (in Rupees)  30521852054.40518\n"
     ]
    }
   ],
   "source": [
    "print(\" Individual Invoice Total Amount \\n \\nInvoiceID        Amount\")\n",
    "\n",
    "a= DataSet[\"Line Item Quantity\"] * DataSet[\"Line Item Value\"] + DataSet[\"Freight Cost (Rupees)\"] \n",
    "print(a)\n",
    "print(\"\\n Total Transaction amount: (in Rupees) \", a.sum())"
   ]
  }
 ],
 "metadata": {
  "colab": {
   "name": "Invoice data Analysis.ipynb",
   "provenance": []
  },
  "kernelspec": {
   "display_name": "Python 3",
   "language": "python",
   "name": "python3"
  },
  "language_info": {
   "codemirror_mode": {
    "name": "ipython",
    "version": 3
   },
   "file_extension": ".py",
   "mimetype": "text/x-python",
   "name": "python",
   "nbconvert_exporter": "python",
   "pygments_lexer": "ipython3",
   "version": "3.6.10"
  }
 },
 "nbformat": 4,
 "nbformat_minor": 1
}
